{
 "cells": [
  {
   "cell_type": "markdown",
   "metadata": {},
   "source": [
    "# IEEE Task : Cleaning (Candy Data)\n",
    "### this notebook is for educational purpose . in this notebook we will do some cleanning\n",
    "\n",
    "## Table of Contents\n",
    "<ul>\n",
    "<li><a href=\"#intro\">Introduction</a></li>\n",
    "<li><a href=\"#wrangling\">wrangling</a></li>\n",
    "<li><a href=\"#EDA\">EDA</a></li>  \n",
    "<li><a href=\"#visualization\">visualization</a></li>\n",
    "</ul>"
   ]
  },
  {
   "cell_type": "markdown",
   "metadata": {},
   "source": [
    "<a id='intro'></a>\n",
    "## Introduction\n",
    "\n",
    "### Dataset Description \n",
    "* The data set have many columns ,I will describe the each column purpose :\n",
    "* Internal_ID : it is a user id which is should be uniqe for each user\n",
    "* Q1-Going Out?: Are you actually going trick or treating yourself? \"has values `Yes or No`\"\n",
    "- Q2-Gender: It has four different options, `Femal ,Male ,Other ,I'd rather not say`\n",
    "- Q3-Age: Numerical field\n",
    "- Q4-Country: Text Field, but users have written their own version of the names. Example, for America, there are entries such as USA, us, US, America so we should consider that while cleanning\n",
    "- Q5-State/Province: Text Field, but users have written their own version of the names. Same as the country data.\n",
    "- Q6-Joy Or Despair: All kinds of chocolate bars are the questions with three distinct options to choose from (Joy, Meh, Despair).\n",
    "- Q7-Joy Other: Text Field to write items not included above that give you JOY. Lots of missing values.\n",
    "- Q8-Despair Other: Text Field ti write items not included above that give you DESPAIR. Lots of missing values.\n",
    "- Q9-Other Comments: Text Field. Lots of missing values.\n",
    "- Q10-Dress: Binary field. Missing values present\n",
    "- Unnamed: 113\n",
    "- Q11-Day: Binary Answer Field. Missing values present "
   ]
  },
  {
   "cell_type": "markdown",
   "metadata": {},
   "source": [
    "# 1-Frist,Importing important packges and importing the data excel file "
   ]
  },
  {
   "cell_type": "code",
   "execution_count": 660,
   "metadata": {},
   "outputs": [],
   "source": [
    "import warnings\n",
    "\n",
    "# Ignore all warnings\n",
    "warnings.filterwarnings(\"ignore\")\n"
   ]
  },
  {
   "cell_type": "code",
   "execution_count": 661,
   "metadata": {},
   "outputs": [
    {
     "data": {
      "text/html": [
       "<div>\n",
       "<style scoped>\n",
       "    .dataframe tbody tr th:only-of-type {\n",
       "        vertical-align: middle;\n",
       "    }\n",
       "\n",
       "    .dataframe tbody tr th {\n",
       "        vertical-align: top;\n",
       "    }\n",
       "\n",
       "    .dataframe thead th {\n",
       "        text-align: right;\n",
       "    }\n",
       "</style>\n",
       "<table border=\"1\" class=\"dataframe\">\n",
       "  <thead>\n",
       "    <tr style=\"text-align: right;\">\n",
       "      <th></th>\n",
       "      <th>Internal ID</th>\n",
       "      <th>Q1: GOING OUT?</th>\n",
       "      <th>Q2: GENDER</th>\n",
       "      <th>Q3: AGE</th>\n",
       "      <th>Q4: COUNTRY</th>\n",
       "      <th>Q5: STATE, PROVINCE, COUNTY, ETC</th>\n",
       "      <th>Q6 | 100 Grand Bar</th>\n",
       "      <th>Q6 | Anonymous brown globs that come in black and orange wrappers\\t(a.k.a. Mary Janes)</th>\n",
       "      <th>Q6 | Any full-sized candy bar</th>\n",
       "      <th>Q6 | Black Jacks</th>\n",
       "      <th>...</th>\n",
       "      <th>Q8: DESPAIR OTHER</th>\n",
       "      <th>Q9: OTHER COMMENTS</th>\n",
       "      <th>Q10: DRESS</th>\n",
       "      <th>Unnamed: 113</th>\n",
       "      <th>Q11: DAY</th>\n",
       "      <th>Q12: MEDIA [Daily Dish]</th>\n",
       "      <th>Q12: MEDIA [Science]</th>\n",
       "      <th>Q12: MEDIA [ESPN]</th>\n",
       "      <th>Q12: MEDIA [Yahoo]</th>\n",
       "      <th>Click Coordinates (x, y)</th>\n",
       "    </tr>\n",
       "  </thead>\n",
       "  <tbody>\n",
       "    <tr>\n",
       "      <th>0</th>\n",
       "      <td>90258773</td>\n",
       "      <td>NaN</td>\n",
       "      <td>NaN</td>\n",
       "      <td>NaN</td>\n",
       "      <td>NaN</td>\n",
       "      <td>NaN</td>\n",
       "      <td>NaN</td>\n",
       "      <td>NaN</td>\n",
       "      <td>NaN</td>\n",
       "      <td>NaN</td>\n",
       "      <td>...</td>\n",
       "      <td>NaN</td>\n",
       "      <td>NaN</td>\n",
       "      <td>NaN</td>\n",
       "      <td>NaN</td>\n",
       "      <td>NaN</td>\n",
       "      <td>NaN</td>\n",
       "      <td>NaN</td>\n",
       "      <td>NaN</td>\n",
       "      <td>NaN</td>\n",
       "      <td>NaN</td>\n",
       "    </tr>\n",
       "    <tr>\n",
       "      <th>1</th>\n",
       "      <td>90272821</td>\n",
       "      <td>No</td>\n",
       "      <td>Male</td>\n",
       "      <td>44</td>\n",
       "      <td>USA</td>\n",
       "      <td>NM</td>\n",
       "      <td>MEH</td>\n",
       "      <td>DESPAIR</td>\n",
       "      <td>JOY</td>\n",
       "      <td>MEH</td>\n",
       "      <td>...</td>\n",
       "      <td>NaN</td>\n",
       "      <td>Bottom line is Twix is really the only candy w...</td>\n",
       "      <td>White and gold</td>\n",
       "      <td>NaN</td>\n",
       "      <td>Sunday</td>\n",
       "      <td>NaN</td>\n",
       "      <td>1.0</td>\n",
       "      <td>NaN</td>\n",
       "      <td>NaN</td>\n",
       "      <td>(84, 25)</td>\n",
       "    </tr>\n",
       "    <tr>\n",
       "      <th>2</th>\n",
       "      <td>90272829</td>\n",
       "      <td>NaN</td>\n",
       "      <td>Male</td>\n",
       "      <td>49</td>\n",
       "      <td>USA</td>\n",
       "      <td>Virginia</td>\n",
       "      <td>NaN</td>\n",
       "      <td>NaN</td>\n",
       "      <td>NaN</td>\n",
       "      <td>NaN</td>\n",
       "      <td>...</td>\n",
       "      <td>NaN</td>\n",
       "      <td>NaN</td>\n",
       "      <td>NaN</td>\n",
       "      <td>NaN</td>\n",
       "      <td>NaN</td>\n",
       "      <td>NaN</td>\n",
       "      <td>NaN</td>\n",
       "      <td>NaN</td>\n",
       "      <td>NaN</td>\n",
       "      <td>NaN</td>\n",
       "    </tr>\n",
       "    <tr>\n",
       "      <th>3</th>\n",
       "      <td>90272840</td>\n",
       "      <td>No</td>\n",
       "      <td>Male</td>\n",
       "      <td>40</td>\n",
       "      <td>us</td>\n",
       "      <td>or</td>\n",
       "      <td>MEH</td>\n",
       "      <td>DESPAIR</td>\n",
       "      <td>JOY</td>\n",
       "      <td>MEH</td>\n",
       "      <td>...</td>\n",
       "      <td>NaN</td>\n",
       "      <td>Raisins can go to hell</td>\n",
       "      <td>White and gold</td>\n",
       "      <td>NaN</td>\n",
       "      <td>Sunday</td>\n",
       "      <td>NaN</td>\n",
       "      <td>1.0</td>\n",
       "      <td>NaN</td>\n",
       "      <td>NaN</td>\n",
       "      <td>(75, 23)</td>\n",
       "    </tr>\n",
       "    <tr>\n",
       "      <th>4</th>\n",
       "      <td>90272841</td>\n",
       "      <td>No</td>\n",
       "      <td>Male</td>\n",
       "      <td>23</td>\n",
       "      <td>usa</td>\n",
       "      <td>exton pa</td>\n",
       "      <td>JOY</td>\n",
       "      <td>DESPAIR</td>\n",
       "      <td>JOY</td>\n",
       "      <td>DESPAIR</td>\n",
       "      <td>...</td>\n",
       "      <td>NaN</td>\n",
       "      <td>NaN</td>\n",
       "      <td>White and gold</td>\n",
       "      <td>NaN</td>\n",
       "      <td>Friday</td>\n",
       "      <td>NaN</td>\n",
       "      <td>1.0</td>\n",
       "      <td>NaN</td>\n",
       "      <td>NaN</td>\n",
       "      <td>(70, 10)</td>\n",
       "    </tr>\n",
       "  </tbody>\n",
       "</table>\n",
       "<p>5 rows × 120 columns</p>\n",
       "</div>"
      ],
      "text/plain": [
       "   Internal ID Q1: GOING OUT? Q2: GENDER Q3: AGE Q4: COUNTRY  \\\n",
       "0     90258773            NaN        NaN     NaN         NaN   \n",
       "1     90272821             No       Male      44        USA    \n",
       "2     90272829            NaN       Male      49         USA   \n",
       "3     90272840             No       Male      40          us   \n",
       "4     90272841             No       Male      23         usa   \n",
       "\n",
       "  Q5: STATE, PROVINCE, COUNTY, ETC Q6 | 100 Grand Bar  \\\n",
       "0                              NaN                NaN   \n",
       "1                               NM                MEH   \n",
       "2                         Virginia                NaN   \n",
       "3                               or                MEH   \n",
       "4                         exton pa                JOY   \n",
       "\n",
       "  Q6 | Anonymous brown globs that come in black and orange wrappers\\t(a.k.a. Mary Janes)  \\\n",
       "0                                                NaN                                       \n",
       "1                                            DESPAIR                                       \n",
       "2                                                NaN                                       \n",
       "3                                            DESPAIR                                       \n",
       "4                                            DESPAIR                                       \n",
       "\n",
       "  Q6 | Any full-sized candy bar Q6 | Black Jacks  ... Q8: DESPAIR OTHER  \\\n",
       "0                           NaN              NaN  ...               NaN   \n",
       "1                           JOY              MEH  ...               NaN   \n",
       "2                           NaN              NaN  ...               NaN   \n",
       "3                           JOY              MEH  ...               NaN   \n",
       "4                           JOY          DESPAIR  ...               NaN   \n",
       "\n",
       "                                  Q9: OTHER COMMENTS      Q10: DRESS  \\\n",
       "0                                                NaN             NaN   \n",
       "1  Bottom line is Twix is really the only candy w...  White and gold   \n",
       "2                                                NaN             NaN   \n",
       "3                             Raisins can go to hell  White and gold   \n",
       "4                                                NaN  White and gold   \n",
       "\n",
       "  Unnamed: 113 Q11: DAY Q12: MEDIA [Daily Dish] Q12: MEDIA [Science]  \\\n",
       "0          NaN      NaN                     NaN                  NaN   \n",
       "1          NaN   Sunday                     NaN                  1.0   \n",
       "2          NaN      NaN                     NaN                  NaN   \n",
       "3          NaN   Sunday                     NaN                  1.0   \n",
       "4          NaN   Friday                     NaN                  1.0   \n",
       "\n",
       "  Q12: MEDIA [ESPN] Q12: MEDIA [Yahoo] Click Coordinates (x, y)  \n",
       "0               NaN                NaN                      NaN  \n",
       "1               NaN                NaN                 (84, 25)  \n",
       "2               NaN                NaN                      NaN  \n",
       "3               NaN                NaN                 (75, 23)  \n",
       "4               NaN                NaN                 (70, 10)  \n",
       "\n",
       "[5 rows x 120 columns]"
      ]
     },
     "execution_count": 661,
     "metadata": {},
     "output_type": "execute_result"
    }
   ],
   "source": [
    "import numpy as np # this packege for mathmatical functions and arrays\n",
    "import pandas as pd # this packege for data manipulation and analysis\n",
    "import matplotlib.pyplot as plt # this packege for data visualization\n",
    "\n",
    "data = pd.read_excel(r\"C:\\Users\\maham\\Desktop\\candyhierarchy2017.xlsx\") # i used read_excel beacuse the data is in excel file\n",
    "data.head() # to show the first 5 rows of the data\n"
   ]
  },
  {
   "cell_type": "markdown",
   "metadata": {},
   "source": [
    "<a id='wrangling'></a>\n",
    "## Data Wrangling\n",
    "\n",
    "\n",
    "\n",
    "### General Properties"
   ]
  },
  {
   "cell_type": "markdown",
   "metadata": {},
   "source": [
    "# 2- show some general properties for the data "
   ]
  },
  {
   "cell_type": "markdown",
   "metadata": {},
   "source": [
    "* Frist, i will show the size of our data "
   ]
  },
  {
   "cell_type": "code",
   "execution_count": 662,
   "metadata": {},
   "outputs": [
    {
     "name": "stdout",
     "output_type": "stream",
     "text": [
      "(2460, 120)\n"
     ]
    }
   ],
   "source": [
    "print(data.shape) # to show the number of rows and columns in the data"
   ]
  },
  {
   "cell_type": "markdown",
   "metadata": {},
   "source": [
    "* Second, i will show the names of columns "
   ]
  },
  {
   "cell_type": "code",
   "execution_count": 663,
   "metadata": {},
   "outputs": [
    {
     "name": "stdout",
     "output_type": "stream",
     "text": [
      "Index(['Internal ID', 'Q1: GOING OUT?', 'Q2: GENDER', 'Q3: AGE', 'Q4: COUNTRY',\n",
      "       'Q5: STATE, PROVINCE, COUNTY, ETC', 'Q6 | 100 Grand Bar',\n",
      "       'Q6 | Anonymous brown globs that come in black and orange wrappers\\t(a.k.a. Mary Janes)',\n",
      "       'Q6 | Any full-sized candy bar', 'Q6 | Black Jacks',\n",
      "       ...\n",
      "       'Q8: DESPAIR OTHER', 'Q9: OTHER COMMENTS', 'Q10: DRESS', 'Unnamed: 113',\n",
      "       'Q11: DAY', 'Q12: MEDIA [Daily Dish]', 'Q12: MEDIA [Science]',\n",
      "       'Q12: MEDIA [ESPN]', 'Q12: MEDIA [Yahoo]', 'Click Coordinates (x, y)'],\n",
      "      dtype='object', length=120)\n"
     ]
    }
   ],
   "source": [
    "print(data.columns) # to show the columns names in the data"
   ]
  },
  {
   "cell_type": "markdown",
   "metadata": {},
   "source": [
    "* Thired, i will show the number of missing values in each column"
   ]
  },
  {
   "cell_type": "code",
   "execution_count": 664,
   "metadata": {},
   "outputs": [
    {
     "name": "stdout",
     "output_type": "stream",
     "text": [
      "Internal ID                    0\n",
      "Q1: GOING OUT?               110\n",
      "Q2: GENDER                    41\n",
      "Q3: AGE                       84\n",
      "Q4: COUNTRY                   64\n",
      "                            ... \n",
      "Q12: MEDIA [Daily Dish]     2375\n",
      "Q12: MEDIA [Science]        1098\n",
      "Q12: MEDIA [ESPN]           2361\n",
      "Q12: MEDIA [Yahoo]          2393\n",
      "Click Coordinates (x, y)     855\n",
      "Length: 120, dtype: int64\n"
     ]
    }
   ],
   "source": [
    "print(data.isnull().sum()) # to show the number of missing values in each column"
   ]
  },
  {
   "cell_type": "markdown",
   "metadata": {},
   "source": [
    "* Finally, i will show the data type of each column"
   ]
  },
  {
   "cell_type": "code",
   "execution_count": 665,
   "metadata": {},
   "outputs": [
    {
     "name": "stdout",
     "output_type": "stream",
     "text": [
      "Internal ID                   int64\n",
      "Q1: GOING OUT?               object\n",
      "Q2: GENDER                   object\n",
      "Q3: AGE                      object\n",
      "Q4: COUNTRY                  object\n",
      "                             ...   \n",
      "Q12: MEDIA [Daily Dish]     float64\n",
      "Q12: MEDIA [Science]        float64\n",
      "Q12: MEDIA [ESPN]           float64\n",
      "Q12: MEDIA [Yahoo]          float64\n",
      "Click Coordinates (x, y)     object\n",
      "Length: 120, dtype: object\n"
     ]
    }
   ],
   "source": [
    "print(data.dtypes) # to show the data types of each column"
   ]
  },
  {
   "cell_type": "markdown",
   "metadata": {},
   "source": [
    "### summry : there is wrong data type in age column , there is wrong range in age column and there is a missing value in many columns"
   ]
  },
  {
   "cell_type": "markdown",
   "metadata": {},
   "source": [
    "# Cleaning"
   ]
  },
  {
   "cell_type": "markdown",
   "metadata": {},
   "source": [
    "### before remove the (Internal ID) column we can use this column to remove the duplicated rows \n",
    "* Duplicated values can happen because many cases like : human errors in collcting data or servers errors"
   ]
  },
  {
   "cell_type": "code",
   "execution_count": 666,
   "metadata": {},
   "outputs": [
    {
     "name": "stdout",
     "output_type": "stream",
     "text": [
      "0\n"
     ]
    }
   ],
   "source": [
    "duplicate_ID = data.duplicated(subset='Internal ID') # to show the duplicated rows in the data\n",
    "print(duplicate_ID.sum()) # to show the number of duplicated rows in the data"
   ]
  },
  {
   "cell_type": "markdown",
   "metadata": {},
   "source": [
    "* So , there is no duplicated values Then we will remove the columns that we don't need like('Internal ID','Q7: JOY OTHER','Q8: DESPAIR OTHER','Q9: OTHER COMMENTS','Q12: MEDIA [Daily Dish]\tQ12: MEDIA [Science]\tQ12: MEDIA [ESPN]\tQ12: MEDIA [Yahoo],'Click Coordinates (x, y)'\n",
    ")"
   ]
  },
  {
   "cell_type": "code",
   "execution_count": 667,
   "metadata": {},
   "outputs": [
    {
     "name": "stdout",
     "output_type": "stream",
     "text": [
      "Index(['Q1: GOING OUT?', 'Q2: GENDER', 'Q3: AGE', 'Q4: COUNTRY',\n",
      "       'Q5: STATE, PROVINCE, COUNTY, ETC', 'Q6 | 100 Grand Bar',\n",
      "       'Q6 | Anonymous brown globs that come in black and orange wrappers\\t(a.k.a. Mary Janes)',\n",
      "       'Q6 | Any full-sized candy bar', 'Q6 | Black Jacks',\n",
      "       'Q6 | Bonkers (the candy)',\n",
      "       ...\n",
      "       'Q6 | Trail Mix', 'Q6 | Twix',\n",
      "       'Q6 | Vials of pure high fructose corn syrup, for main-lining into your vein',\n",
      "       'Q6 | Vicodin', 'Q6 | Whatchamacallit Bars', 'Q6 | White Bread',\n",
      "       'Q6 | Whole Wheat anything', 'Q6 | York Peppermint Patties',\n",
      "       'Q10: DRESS', 'Q11: DAY'],\n",
      "      dtype='object', length=110)\n"
     ]
    }
   ],
   "source": [
    "rem_col = ['Internal ID','Q7: JOY OTHER','Q8: DESPAIR OTHER','Q9: OTHER COMMENTS','Q12: MEDIA [Daily Dish]','Unnamed: 113','Q12: MEDIA [Science]','Q12: MEDIA [ESPN]','Q12: MEDIA [Yahoo]','Click Coordinates (x, y)']\n",
    "data.drop(rem_col, axis=1, inplace=True) # to remove the unnecessary columns from the data\n",
    "print(data.columns) # to show the columns names after removing the unnecessary columns"
   ]
  },
  {
   "cell_type": "markdown",
   "metadata": {},
   "source": [
    "* After removing the unnecessary columns , i need to change name for some of them "
   ]
  },
  {
   "cell_type": "markdown",
   "metadata": {},
   "source": [
    "* I will use the new names of columns like the names in notebook template "
   ]
  },
  {
   "cell_type": "code",
   "execution_count": 668,
   "metadata": {},
   "outputs": [],
   "source": [
    "data.rename(columns={'Q1: GOING OUT?':'going out','Q2: GENDER':'gender','Q3: AGE':'age','Q4: COUNTRY':'country','Q5: STATE, PROVINCE, COUNTY, ETC':'area','Q10: DRESS':'dress','Q11: DAY':'day'},inplace=True) # to rename the columns names"
   ]
  },
  {
   "cell_type": "code",
   "execution_count": 669,
   "metadata": {},
   "outputs": [
    {
     "name": "stdout",
     "output_type": "stream",
     "text": [
      "Index(['going out', 'gender', 'age', 'country', 'area', 'Q6 | 100 Grand Bar',\n",
      "       'Q6 | Anonymous brown globs that come in black and orange wrappers\\t(a.k.a. Mary Janes)',\n",
      "       'Q6 | Any full-sized candy bar', 'Q6 | Black Jacks',\n",
      "       'Q6 | Bonkers (the candy)',\n",
      "       ...\n",
      "       'Q6 | Trail Mix', 'Q6 | Twix',\n",
      "       'Q6 | Vials of pure high fructose corn syrup, for main-lining into your vein',\n",
      "       'Q6 | Vicodin', 'Q6 | Whatchamacallit Bars', 'Q6 | White Bread',\n",
      "       'Q6 | Whole Wheat anything', 'Q6 | York Peppermint Patties', 'dress',\n",
      "       'day'],\n",
      "      dtype='object', length=110)\n"
     ]
    }
   ],
   "source": [
    "print(data.columns) # to show the columns names after renaming the columns"
   ]
  },
  {
   "cell_type": "markdown",
   "metadata": {},
   "source": [
    "### Filling the missing values step\n",
    "> After what we do this step for fill the missing values with suitable way"
   ]
  },
  {
   "cell_type": "markdown",
   "metadata": {},
   "source": [
    "### 1- i think it is good way to fill the missing values in 'going out' column with the most frequent value in the column "
   ]
  },
  {
   "cell_type": "code",
   "execution_count": 670,
   "metadata": {},
   "outputs": [
    {
     "name": "stdout",
     "output_type": "stream",
     "text": [
      "0    No\n",
      "Name: going out, dtype: object\n"
     ]
    }
   ],
   "source": [
    "mode_value = data['going out'].mode() # to show the most frequent value in the column 'going out' we will use .mode() \n",
    "print(mode_value) # to show the most frequent value in the column 'going out' we will use .mode() "
   ]
  },
  {
   "cell_type": "code",
   "execution_count": 671,
   "metadata": {},
   "outputs": [
    {
     "name": "stdout",
     "output_type": "stream",
     "text": [
      "0\n"
     ]
    }
   ],
   "source": [
    "data.fillna({'going out':'No'}, inplace=True) # to fill the missing values in the column 'going out' with the most frequent value\n",
    "print(data['going out'].isnull().sum()) # to show the number of missing values in the column 'going out'"
   ]
  },
  {
   "cell_type": "markdown",
   "metadata": {},
   "source": [
    "### 2- i think in 'gender' column is good way to fill the missing values with 'I'd rather not say' by logic way"
   ]
  },
  {
   "cell_type": "code",
   "execution_count": 672,
   "metadata": {},
   "outputs": [
    {
     "name": "stdout",
     "output_type": "stream",
     "text": [
      "0\n"
     ]
    }
   ],
   "source": [
    "data.fillna({'gender':\"I'd rather not say\"}, inplace=True) \n",
    "print(data['gender'].isnull().sum()) # to show the number of missing values\n"
   ]
  },
  {
   "cell_type": "markdown",
   "metadata": {},
   "source": [
    "### 3- In 'age' column we will do :\n",
    "* a - convert type from 'object' to 'numeric' value\n",
    "* b - remove outliers\n",
    "* c - fill the missing values with mean "
   ]
  },
  {
   "cell_type": "markdown",
   "metadata": {},
   "source": [
    "> a - convert type from 'object' to 'numeric' value"
   ]
  },
  {
   "cell_type": "code",
   "execution_count": 673,
   "metadata": {},
   "outputs": [
    {
     "name": "stdout",
     "output_type": "stream",
     "text": [
      "float64\n"
     ]
    }
   ],
   "source": [
    "# to conver the data type from object to numric i will use the to_numric() function (I was not know the info but i read it in template and now i know it 'Thanks for the info')\n",
    "data['age'] = pd.to_numeric(data['age'], errors='coerce') # to convert the data type from object to numric in the column 'age' (errors='coerce')it will replace all non-numeric values with NaNs)\n",
    "\n",
    "print(data['age'].dtypes) # to show the data type of the column 'age'"
   ]
  },
  {
   "cell_type": "markdown",
   "metadata": {},
   "source": [
    "> b - remove outliers"
   ]
  },
  {
   "cell_type": "code",
   "execution_count": 674,
   "metadata": {},
   "outputs": [
    {
     "name": "stdout",
     "output_type": "stream",
     "text": [
      "(2321, 110)\n"
     ]
    }
   ],
   "source": [
    "# to calculate the outliers in the column 'age' i will use the quantile() function\n",
    "q1 = data['age'].quantile(0.25) # to calculate the first quartile\n",
    "q3 = data['age'].quantile(0.75) # to calculate the third quartile\n",
    "iqr = q3 - q1 # to calculate the IQR\n",
    "low = q1 - 1.5 * iqr # to calculate the lower number\n",
    "high = q3 + 1.5 * iqr # to calculate the higher number\n",
    "data = data[(data['age'] > low) & (data['age'] < high)] # to remove the outliers\n",
    "print(data.shape) # to show the number of rows and columns after removing the outliers"
   ]
  },
  {
   "cell_type": "markdown",
   "metadata": {},
   "source": [
    "* we notice the rows decrese from 2460 to 2321 after removing the outliers"
   ]
  },
  {
   "cell_type": "markdown",
   "metadata": {},
   "source": [
    "> c - fill the missing values with mean"
   ]
  },
  {
   "cell_type": "code",
   "execution_count": 675,
   "metadata": {},
   "outputs": [
    {
     "name": "stdout",
     "output_type": "stream",
     "text": [
      "0\n"
     ]
    }
   ],
   "source": [
    "data.fillna({'age':data['age'].mean()}, inplace=True) # to fill the missing values in the column 'age' with the mean value\n",
    "print(data['age'].isnull().sum()) # to show the number of missing values in the column 'age'"
   ]
  },
  {
   "cell_type": "code",
   "execution_count": 676,
   "metadata": {},
   "outputs": [
    {
     "name": "stdout",
     "output_type": "stream",
     "text": [
      "int32\n"
     ]
    }
   ],
   "source": [
    "data['age'] = data['age'].astype(int) # to convert the data type from float to int in the column 'age'\n",
    "print(data['age'].dtypes) # to show the data type of the column 'age'"
   ]
  },
  {
   "cell_type": "markdown",
   "metadata": {},
   "source": [
    "### 4- In 'country' column we will replace some values and fill the missing values by 'mode' way"
   ]
  },
  {
   "cell_type": "markdown",
   "metadata": {},
   "source": [
    "* Frist i will review the values in 'country' column"
   ]
  },
  {
   "cell_type": "code",
   "execution_count": 677,
   "metadata": {},
   "outputs": [
    {
     "name": "stdout",
     "output_type": "stream",
     "text": [
      "country\n",
      "USA                            682\n",
      "United States                  487\n",
      "usa                            205\n",
      "Canada                         172\n",
      "Usa                            135\n",
      "                              ... \n",
      "France                           1\n",
      "Pittsburgh                       1\n",
      "usas                             1\n",
      "USA? Hard to tell anymore..      1\n",
      "I don't know anymore             1\n",
      "Name: count, Length: 112, dtype: int64\n"
     ]
    }
   ],
   "source": [
    "print(data['country'].value_counts()) # to show the number of each country in the column 'country'"
   ]
  },
  {
   "cell_type": "markdown",
   "metadata": {},
   "source": [
    "* we notice there is many values for the same value but in anthor format  (I can't use Fuzzywuzzy because I have a problem with undrsand it )"
   ]
  },
  {
   "cell_type": "code",
   "execution_count": 678,
   "metadata": {},
   "outputs": [
    {
     "name": "stdout",
     "output_type": "stream",
     "text": [
      "country\n",
      "USA                   1989\n",
      "CANADA                 219\n",
      "UK                      38\n",
      "GERMANY                 10\n",
      "NETHERLANDS              7\n",
      "AUSTRALIA                6\n",
      "JAPAN                    5\n",
      "SCOTLAND                 5\n",
      "MEXICO                   4\n",
      "FRANCE                   3\n",
      "SWITZERLAND              3\n",
      "HONG KONG                2\n",
      "CHINA                    2\n",
      "DENMARK                  2\n",
      "SWEDEN                   2\n",
      "KOREA                    1\n",
      "ICELAND                  1\n",
      "PITTSBURGH               1\n",
      "GREECE                   1\n",
      "COSTA RICA               1\n",
      "UD                       1\n",
      "SOUTH KOREA              1\n",
      "INDONESIA                1\n",
      "SOVIET CANUCKISTAN       1\n",
      "SINGAPORE                1\n",
      "FINLAND                  1\n",
      "TAIWAN                   1\n",
      "UAE                      1\n",
      "SPAIN                    1\n",
      "SOUTH AFRICA             1\n",
      "Name: count, dtype: int64\n"
     ]
    }
   ],
   "source": [
    "data['country'] = data['country'].str.strip() # to remove the spaces at the strat and end of the value\n",
    "data['country'] = data['country'].str.upper() # to convert all values to upper case\n",
    "\n",
    "# create a list for some values that have the same meaning\n",
    "usa_list = ['USA','UNITED STATE','UNITES STATES','USSA','NORTH CAROLINA ','United States','usa','Usa','United States','United states','USAS','MURICA','UNITE STATES','USAA',\n",
    "            'UNITED STSTES','United States of America','us','united states','UNITED STATED',\"'MERICA\",'THE UNITED STATES','USAUSAUSA','NORTH CAROLINA','THE UNITED STATES OF AMERICA','CALIFORNIA',\n",
    "            'I PRETEND TO BE FROM CANADA, BUT I AM REALLY FROM THE UNITED STATES.','MERICA','MERICA ','USA? HARD TO TELL ANYMORE..','US OF A','U S','N. AMERICA','NEW JERSEY','UNITED STATEA','UNITED STAES',\n",
    "            'U S A','AHEM....AMERCA','USA USA USA!!!!','UNITED STATSS','UNITED SATES','USA ', 'UNITED STATES OF AMERICA', 'UNITED STATES', 'US',\n",
    "             'NEW YORK','USA! USA! USA!','UNIED STATES','UNHINGED STATES', 'AMERICA', 'U.S.A.', 'U.S.', 'UNITED STATES ', 'UNITED STATES OF AMERICA ']\n",
    "UK_list = ['UK','IRELAND','U.K.' ,'UNITED KINGDOM','ENDLAND' ,'ENGLAND']\n",
    "canda_list = ['CANADA', 'CAN', 'CANADA ','CANAE' ,'CANADA`','CANADA', 'CANADA','CANADA EH']\n",
    "netherland_list = ['NETHERLANDS','HOLLAND','THE NETHERLANDS']\n",
    "\n",
    "# create a list for nan values that we will remove it and trat it like missing values\n",
    "nan_list = [\"I DON'T KNOW ANYMORE'\",'CASCADIA','SUBSCRIBE TO DM4UZ3 ON YOUTUBE','ATLANTIS','A',\"I DON'T KNOW ANYMORE\",'MY COUNTRY IS OF THEE','MURRIKA','NARNIA','TRUMPISTAN','INSANITY LATELY','EARTH','FEAR AND LOATHING']\n",
    "data['country'].replace(usa_list,'USA',inplace=True) # to replace the values in the list 'usa_list' with 'USA'\n",
    "data['country'].replace(UK_list,'UK',inplace=True) # to replace the values in the list 'UK_list' with 'UK'\n",
    "data['country'].replace(canda_list,'CANADA',inplace=True) # to replace the values in the list 'canda_list' with 'CANADA'\n",
    "data['country'].replace(nan_list,np.nan,inplace=True) # to replace the values in the list 'nan_list' with 'nan'\n",
    "data['country'].replace(netherland_list,'NETHERLANDS',inplace=True) # to replace the values in the list 'netherland_list' with 'NETHERLANDS'\n",
    "\n",
    "# remove unwanted values\n",
    "data['country'].replace(nan_list,\"\",inplace=True) # to replace the values in the list 'nan_list' with 'nan'\n",
    "\n",
    "# review the values after cleaning\n",
    "print(data['country'].value_counts()) # to show the number of each country in the column 'country'\n"
   ]
  },
  {
   "cell_type": "markdown",
   "metadata": {},
   "source": [
    "* show number of missing values"
   ]
  },
  {
   "cell_type": "code",
   "execution_count": 679,
   "metadata": {},
   "outputs": [
    {
     "name": "stdout",
     "output_type": "stream",
     "text": [
      "9\n"
     ]
    }
   ],
   "source": [
    "print(data['country'].isnull().sum()) # to show the number of missing values in the column 'country'"
   ]
  },
  {
   "cell_type": "markdown",
   "metadata": {},
   "source": [
    "* i will fill the missing value with mode way"
   ]
  },
  {
   "cell_type": "code",
   "execution_count": 680,
   "metadata": {},
   "outputs": [
    {
     "name": "stdout",
     "output_type": "stream",
     "text": [
      "0    USA\n",
      "Name: country, dtype: object\n"
     ]
    }
   ],
   "source": [
    "print(data['country'].mode())"
   ]
  },
  {
   "cell_type": "code",
   "execution_count": 681,
   "metadata": {},
   "outputs": [
    {
     "name": "stdout",
     "output_type": "stream",
     "text": [
      "0\n"
     ]
    }
   ],
   "source": [
    "data.fillna({'country':'USA'}, inplace=True) # to fill the missing values in the column 'country' with the most frequent value\n",
    "print(data['country'].isnull().sum()) # to show the number of missing values in the column 'country'"
   ]
  },
  {
   "cell_type": "markdown",
   "metadata": {},
   "source": [
    "* i will show the uniqe values in 'area' coulmn"
   ]
  },
  {
   "cell_type": "code",
   "execution_count": 682,
   "metadata": {},
   "outputs": [
    {
     "name": "stdout",
     "output_type": "stream",
     "text": [
      "['NM' 'Virginia' 'or' 'exton pa' 'Colorado ' 'ontario' 'Ontario' 'Wa' nan\n",
      " 'Quebec' 'NY' 'California' 'Texas' 'NEW YORK' 'CO' 'IN' 'MN'\n",
      " 'aberdeenshire' 'Alberta' 'Wisconsin, 53705' 'RI' 'NC' 'Scotland'\n",
      " 'minnesota' 'Michigan' 'Florida' 'New Jersey' 'VA' 'Colorado'\n",
      " 'Los Angeles, California' 'CA' 'New York ' 'Chicago, Illinois' 'Nj'\n",
      " 'Wisconsin' 'Minnesota ' 'London' 'mn' 'TEXAS' 'Illinois'\n",
      " 'District of Columbia' 'Washington' 'Massachusetts ' 'OR' 'Montana'\n",
      " 'New York' 'massachusetts' 'Abu Dhabi' 'TX' 'Arizona' 'Dc' 'yukon'\n",
      " 'Pennsylvania ' 'MD' 'Ohio' 'Alberta ' 'OXFORDSHIRE' 'DC' 'Iowa' 'Mn'\n",
      " 'TN' 'BC' 'Maryland' 'MI' 'Wisconsin ' 'alaska' 'Ny'\n",
      " 'Colorado, Jefferson county ' 'Louisiana' 'pa' 'CO, Larimer County'\n",
      " 'Nebraska ' 'Oregon' 'UT' 'ny' 'Pennsylvania' 'CDMX' 'north carolina'\n",
      " 'Tennessee ' 'Texas ' 'Knox county, Tennessee' 'New Mexico' 'Maine'\n",
      " 'maine' 'Virginia, Arlington' 'WA' 'MO' 'Illinois ' 'Mi' 'MA' 'Alaska'\n",
      " 'New York, NY' 'Il' 'PA' 'New Hampshire ' 'Washington ' 'Massachusetts'\n",
      " 'Georgia' 'IL' 'Oregon ' 'Washington, Clark ' 'NE' 'Oklahoma' 'SC'\n",
      " 'Nebraska' 'mi' 'Nevada' 'va' 'California ' 'vancouver, bc'\n",
      " 'Oregon - but will be in Washington for Halloween' 'Ri'\n",
      " 'Washington, King' 'Ca' 'wa' 'md' 'new york' 'Rhode island'\n",
      " 'VT, Chittenden' 'North Carolina' 'pennsylvania' 'PEnnsylvania' 'Alabama'\n",
      " 'GA' 'FL, Orange County' 'Nope' 'manitoba' 'colorado' 'california '\n",
      " 'South Carolina' 'california' 'Baja California' 'illinois'\n",
      " 'Santa Cruz County, California' 'MARYLAND' 'NJ' 'North Dakota'\n",
      " 'Pennsylvania, Montgomery County' 'Astoria NY' 'Michigan ' 'ca' 'Kansas '\n",
      " 'sk' 'Missouri' 'Oxfordshire' 'West Virginia' 'Harris County, Texas'\n",
      " 'USA ' 'ohio' 'nc' 'Minnesota' 'Bc' 'ma' 'oregon' 'philadelphia'\n",
      " 'Kentucky' 'HI' 'South Holland' 'Derbyshire' 'hesse'\n",
      " 'Massachusetts, Plymouth county' 'hi' 'Co' 'Cali' 'vt' 'CA, Alameda'\n",
      " 'Utah' 'FL' 'Michigan, Shiawassee County' 'Newfoundland' 'Indiana'\n",
      " 'wisconsin' 'Idaho ada' 'La' 'Hawaii' 'California, Alameda' 'Az' 'VT'\n",
      " 'AZ' 'North dakota' 'virginia' 'Ga' 'alameda county, california'\n",
      " 'Greater London' 'bc' 'nm' 'AB' 'WV, Kanawha County ' 'michigan'\n",
      " 'Florida ' 'tx' 'Washington State' 'Sussex' 'Washington, King County'\n",
      " 'San Jose' 'florida' 'Connecticut' 'New Jersey ' 'Orlando, FL' 'ON'\n",
      " 'Saskatchewan' 'South Carolina ' 'texas' 'newfoundland' 'mississippi'\n",
      " 'Oklahoma ' 'washington' 'Manitoba ' 'Manchester' 'cascadia' 'in'\n",
      " 'rhode island' 'Ohio ' 'Pa' 'FL ' 'Ut' 'CT' 'connecticut'\n",
      " 'British Columbia ' 'Nunya, Bizness, USA' 'OH' 'Washington state'\n",
      " 'Oakland, California' 'Washington, Seattle, king' 'Ontario,  Canada' 'ri'\n",
      " 'phoenix, maricopa county, arizona' 'NS'\n",
      " 'Washington state, Kitsap County' 'cailifornia' 'oakland,ca' 'QC' 'USA'\n",
      " 'Missouri ' 'Pittsburgh pa' 'Washington, seattle, king' 'Massachussets '\n",
      " 'Whatcom County, WA' 'Mt' 'NH' 'Michigin' 'Ma' 'KS' 'Albeqrrta' 'Marne'\n",
      " 'Noord-Holland' 'Tennessee, Knox County' 'Henrico, VA'\n",
      " 'Washington State, King County, City of Seattle' 'Washington, DC' 'nyc'\n",
      " 'Brooklyn' 'qld' 'Santa Barbara co. California' 'Maryland ' 'Ky'\n",
      " 'New Orleans la ' 'colorado, boulder' 'mo' 'COLORADO' 'Nh'\n",
      " 'Greater Manchester' 'Fife, Scotland' 'Kalamazoo County, MI' 'OREGON'\n",
      " 'Wi' 'Ontario ' 'wv' 'ulster county, NY' 'NJ, Gloucester' 'calif' 'Or'\n",
      " 'tn' 'MS' 'NB' 'Queens' 'Vermont' 'Kildare' 'Vermont ' 'ND' 'tennessee'\n",
      " 'Washington DC' 'Kings, New York ' 'Toronto, Ontario' 'Victoria'\n",
      " 'Virginia ' 'On' 'nova scotia' 'Tehama' 'suffolk county ny'\n",
      " 'Santa Clara County, California' 'louisiana' 'SD' 'Md' 'Missoure' 'IA'\n",
      " 'Colorado larimer county' 'Tokyo' 'New Mexico, USA' 'ont' 'Califor'\n",
      " 'Idaho' 'Kansas' 'NV' 'Brooklyn, kings county ny'\n",
      " 'King County, Washington' 'WI' 'Washington, Island county'\n",
      " 'KwaZulu-Natal' 'Carver county, MN' 'DUTCHESS COUNTY NY' 'Ny ' 'Wyoming '\n",
      " 'Bristol ' 'british columbia' 'California, San Francisco'\n",
      " 'Glendora, Los Angeles, California' 'Edinburgh' 'Strathclyde' 'Lancasire'\n",
      " 'Ørbæk' 'pr' 'Idf' 'Zuid Holland' 'Osaka' 'Surrey' 'Northern ireland'\n",
      " 'Vaud' 'Arizona ' 'Nova Scotia' 'az' 'Midlothian' 'Tennessee'\n",
      " 'Durham County, North Carolina' 'Missouri, Miller County' 'Glasgow ' 'ct'\n",
      " 'Cuyahoga County, Ohio' 'Seoul' 'Canada' 'Kanagawa ' 'The Shore'\n",
      " 'Manitoba' 'MD ' 'Devonshire' 'Utah ' 'Tx.' 'maryland' 'PENNSYLVANIA'\n",
      " 'Jakarta' 'kansas' 'Mannheim, Baden-Württemberg ' 'Wyoming' 'Rotterdam'\n",
      " 'Ar' 'renton,wa ' 'N-Brabant' 'missouri' 'Georgia ' 'Greifswald' 'ar'\n",
      " 'British Columbia, Canada' 'kent' 'Hessen' 'NOYB' 'South Dakota'\n",
      " 'British Columbia' 'New York, New York' 'wa, spokane' 'new york '\n",
      " 'Buncombe County, North Carolina' 'California, San Diego' 'new hampshire'\n",
      " 'California, Ventura County' 'Nj ' 'Arlington, VA' 'Glasgow' 'kentucky'\n",
      " 'alberta' 'Philadelphia' 'Portland, maine' 'sc' 'nh' 'NSW' 'New jersey'\n",
      " 'montana' 'indiana ' 'Mexico city' 'GA - Georgia' 'il' 'WV'\n",
      " 'Oregon, Multnomah County' 'Vancouver, Wa' 'Nc' 'Atlanta, GA' 'New york'\n",
      " 'Washington state ' 'Singapore' 'Kentucky ' 'west virginia'\n",
      " 'North carolina' 'KY' 'United States' 'Mo' 'Colorado (CO)' 'Fl' 'wyoming'\n",
      " 'Nm' 'Dona Ana county, New Mexico' 'UT, Salt Lake' 'Ks'\n",
      " 'California, Contra Costa County, Pleasant Hill'\n",
      " 'Shanghai, Chang Ning district ' 'Vt' 'Monroe county' 'Hong Kong'\n",
      " 'Washingto' 'Dublin ' 'California, Mendocino County' 'na' 'madrid'\n",
      " 'Hesse' 'Noord-Brabant' 'Skane' 'Zürich' 'Tree Town, USA' 'New Hampshire'\n",
      " 'Philadelphia, PA' 'Bristol County, Rhode Island' 'georgia'\n",
      " 'Newfoundland and Labrador' 'Dublin' 'Oshawa, Ontario, Canada' 'NL' 'DC '\n",
      " 'oklahoma' 'NJ; Essex' 'Delaware' 'Mich' 'Ia' 'ONTARIO' 'Québec'\n",
      " 'orange county, ca' 'BERKELEY, CA' 'California, USA' 'NYC'\n",
      " 'St. Louis County, Missouri' 'Munster' 'Chicago, IL' 'Philadelphia PA'\n",
      " 'Rappahannock County, VA' 'OK' 'Chicago, IL ' 'Mexico City' 'dc'\n",
      " 'Illinois  ' 'WASHINGTON DC' 'Tn' 'Connecticut ' 'ill' 'Idaho '\n",
      " 'Stockholm' 'New York County, New York City, New York State' 'Chicago'\n",
      " 'West Yorkshire' 'Berlin' 'arlington, va' 'Arkansas'\n",
      " 'Alaska, Matanuska-Susitna Borough' 'utah' 'Marietta, GA'\n",
      " 'Northbrook, IL' 'delaware' 'Tx' 'Ont' 'Northampton County, PA'\n",
      " 'Rhode Island' 'Pa.   Northampton county' 'California, San Diego county'\n",
      " 'Bloomington, IN' 'indiana' 'Quenec' 'Londom' 'nj'\n",
      " 'st. augustine florida' 'illinois ' 'iowa'\n",
      " \"The Democratic People's Republic of North Carolina\" 'SC '\n",
      " 'pennsylvania, northampton couny, easton' 'St Louis mo' 'mt' 'québec']\n"
     ]
    }
   ],
   "source": [
    "print(data['area'].unique()) # to show the unique values in the column 'area'"
   ]
  },
  {
   "cell_type": "markdown",
   "metadata": {},
   "source": [
    "> fixing the 'area' column will be hard and not useful so i will drop it"
   ]
  },
  {
   "cell_type": "code",
   "execution_count": 683,
   "metadata": {},
   "outputs": [
    {
     "name": "stdout",
     "output_type": "stream",
     "text": [
      "Index(['going out', 'gender', 'age', 'country', 'Q6 | 100 Grand Bar',\n",
      "       'Q6 | Anonymous brown globs that come in black and orange wrappers\\t(a.k.a. Mary Janes)',\n",
      "       'Q6 | Any full-sized candy bar', 'Q6 | Black Jacks',\n",
      "       'Q6 | Bonkers (the candy)', 'Q6 | Bonkers (the board game)',\n",
      "       ...\n",
      "       'Q6 | Trail Mix', 'Q6 | Twix',\n",
      "       'Q6 | Vials of pure high fructose corn syrup, for main-lining into your vein',\n",
      "       'Q6 | Vicodin', 'Q6 | Whatchamacallit Bars', 'Q6 | White Bread',\n",
      "       'Q6 | Whole Wheat anything', 'Q6 | York Peppermint Patties', 'dress',\n",
      "       'day'],\n",
      "      dtype='object', length=109)\n"
     ]
    }
   ],
   "source": [
    "data.drop('area', axis=1, inplace=True) # to remove the column 'area' from the data\n",
    "print(data.columns) # to show the columns names after removing the column 'area'"
   ]
  },
  {
   "cell_type": "markdown",
   "metadata": {},
   "source": [
    "### 5 - we will clean the 'Q6' columns that have candy kinds "
   ]
  },
  {
   "cell_type": "markdown",
   "metadata": {},
   "source": [
    "> The answers in this columns with(JOY, MEH, DESPAIR) ,\n",
    "<br>\n",
    " So i think is the best way to fill missing values is fill with (MEH) because by logic the meaning the user make this empty is he dose't like and in the same time he dose't hate it\n",
    "\n"
   ]
  },
  {
   "cell_type": "code",
   "execution_count": 684,
   "metadata": {},
   "outputs": [
    {
     "name": "stdout",
     "output_type": "stream",
     "text": [
      "Q6 | 100 Grand Bar                                                                        0\n",
      "Q6 | Anonymous brown globs that come in black and orange wrappers\\t(a.k.a. Mary Janes)    0\n",
      "Q6 | Any full-sized candy bar                                                             0\n",
      "Q6 | Black Jacks                                                                          0\n",
      "Q6 | Bonkers (the candy)                                                                  0\n",
      "                                                                                         ..\n",
      "Q6 | Vicodin                                                                              0\n",
      "Q6 | Whatchamacallit Bars                                                                 0\n",
      "Q6 | White Bread                                                                          0\n",
      "Q6 | Whole Wheat anything                                                                 0\n",
      "Q6 | York Peppermint Patties                                                              0\n",
      "Length: 103, dtype: int64\n",
      "Q6 | 100 Grand Bar\n",
      "MEH        1398\n",
      "JOY         846\n",
      "DESPAIR      77\n",
      "Name: count, dtype: int64\n"
     ]
    }
   ],
   "source": [
    "Q6_list = data.loc[:,'Q6 | 100 Grand Bar':'Q6 | York Peppermint Patties']\n",
    "data[Q6_list.columns] = data[Q6_list.columns].fillna('MEH') # to fill the missing values in the columns 'Q6 | 100 Grand Bar':'Q6 | York Peppermint Patties' with 'MEH'\n",
    "print(data[Q6_list.columns].isnull().sum()) # to show the number of missing values in the columns 'Q6 | 100 Grand Bar':'Q6 | York Peppermint Patties'\n",
    "print(data['Q6 | 100 Grand Bar'].value_counts())"
   ]
  },
  {
   "cell_type": "markdown",
   "metadata": {},
   "source": [
    "### 6 - The 'dress' coulmn we will fill the missing values with the (mode) way"
   ]
  },
  {
   "cell_type": "code",
   "execution_count": 685,
   "metadata": {},
   "outputs": [
    {
     "name": "stdout",
     "output_type": "stream",
     "text": [
      "0    White and gold\n",
      "Name: dress, dtype: object\n"
     ]
    }
   ],
   "source": [
    "print(data['dress'].mode()) # to show the most frequent value in the column 'dress'"
   ]
  },
  {
   "cell_type": "markdown",
   "metadata": {},
   "source": [
    "> We will fill missing values with (White and gold) value"
   ]
  },
  {
   "cell_type": "code",
   "execution_count": 686,
   "metadata": {},
   "outputs": [
    {
     "name": "stdout",
     "output_type": "stream",
     "text": [
      "0\n"
     ]
    }
   ],
   "source": [
    "data.fillna({'dress':'White and gold'}, inplace=True) # to fill the missing values in the column 'dress' with the most frequent value\n",
    "print(data['dress'].isnull().sum()) # to show the number of missing values in the column 'dress'"
   ]
  },
  {
   "cell_type": "markdown",
   "metadata": {},
   "source": [
    "### At the end of cleaning step , i will fill the missing values in 'day' column with 'Nothing' value as a new value insted of missing values"
   ]
  },
  {
   "cell_type": "code",
   "execution_count": 687,
   "metadata": {},
   "outputs": [
    {
     "name": "stdout",
     "output_type": "stream",
     "text": [
      "0\n"
     ]
    }
   ],
   "source": [
    "data.fillna({'day':'Nothing'}, inplace=True) # to fill the missing values in the column 'day' with 'Nothing'\n",
    "print(data['day'].isnull().sum()) # to show the number of missing values in the column 'day'"
   ]
  },
  {
   "cell_type": "markdown",
   "metadata": {},
   "source": [
    "# Check step "
   ]
  },
  {
   "cell_type": "code",
   "execution_count": 688,
   "metadata": {},
   "outputs": [
    {
     "name": "stdout",
     "output_type": "stream",
     "text": [
      "The types of each column going out                       object\n",
      "gender                          object\n",
      "age                              int32\n",
      "country                         object\n",
      "Q6 | 100 Grand Bar              object\n",
      "                                 ...  \n",
      "Q6 | White Bread                object\n",
      "Q6 | Whole Wheat anything       object\n",
      "Q6 | York Peppermint Patties    object\n",
      "dress                           object\n",
      "day                             object\n",
      "Length: 109, dtype: object\n",
      "------------------------------------------------\n",
      "The missing values in columns going out                       0\n",
      "gender                          0\n",
      "age                             0\n",
      "country                         0\n",
      "Q6 | 100 Grand Bar              0\n",
      "                               ..\n",
      "Q6 | White Bread                0\n",
      "Q6 | Whole Wheat anything       0\n",
      "Q6 | York Peppermint Patties    0\n",
      "dress                           0\n",
      "day                             0\n",
      "Length: 109, dtype: int64\n"
     ]
    }
   ],
   "source": [
    "print(\"The types of each column\",data.dtypes) # to show the data types of each column\n",
    "print(\"------------------------------------------------\")\n",
    "print(\"The missing values in columns\",data.isnull().sum()) # to show the number of missing values in each column"
   ]
  },
  {
   "cell_type": "markdown",
   "metadata": {},
   "source": [
    "### Cleaning summry :\n",
    "<br>\n",
    "- Frist, i droped the useless columns\n",
    "<br>\n",
    "<br>\n",
    "- Then , i changed the columns name to be easier\n",
    "<br>\n",
    "<br>\n",
    "- Then , i filled the missing values in suitable way\n",
    "<br>\n",
    "<br>\n",
    "- Finally , i cheacked on data that what i did work"
   ]
  },
  {
   "cell_type": "markdown",
   "metadata": {},
   "source": [
    "# EDA"
   ]
  },
  {
   "cell_type": "markdown",
   "metadata": {},
   "source": [
    "### Find the most 10 candies 'JOY' and the most 10 candies 'DESPAIR'"
   ]
  },
  {
   "cell_type": "code",
   "execution_count": 689,
   "metadata": {},
   "outputs": [
    {
     "name": "stdout",
     "output_type": "stream",
     "text": [
      "  Q6 | 100 Grand Bar  \\\n",
      "1                MEH   \n",
      "2                MEH   \n",
      "3                MEH   \n",
      "4                JOY   \n",
      "6                MEH   \n",
      "\n",
      "  Q6 | Anonymous brown globs that come in black and orange wrappers\\t(a.k.a. Mary Janes)  \\\n",
      "1                                            DESPAIR                                       \n",
      "2                                                MEH                                       \n",
      "3                                            DESPAIR                                       \n",
      "4                                            DESPAIR                                       \n",
      "6                                                MEH                                       \n",
      "\n",
      "  Q6 | Any full-sized candy bar Q6 | Black Jacks Q6 | Bonkers (the candy)  \\\n",
      "1                           JOY              MEH                  DESPAIR   \n",
      "2                           MEH              MEH                      MEH   \n",
      "3                           JOY              MEH                      MEH   \n",
      "4                           JOY          DESPAIR                      MEH   \n",
      "6                           MEH              MEH                      MEH   \n",
      "\n",
      "  Q6 | Bonkers (the board game) Q6 | Bottle Caps Q6 | Box'o'Raisins  \\\n",
      "1                       DESPAIR          DESPAIR            DESPAIR   \n",
      "2                           MEH              MEH                MEH   \n",
      "3                       DESPAIR              MEH            DESPAIR   \n",
      "4                       DESPAIR              MEH            DESPAIR   \n",
      "6                           MEH              MEH                MEH   \n",
      "\n",
      "  Q6 | Broken glow stick Q6 | Butterfinger  ... Q6 | Three Musketeers  \\\n",
      "1                DESPAIR           DESPAIR  ...                   JOY   \n",
      "2                    MEH               MEH  ...                   MEH   \n",
      "3                DESPAIR               MEH  ...               DESPAIR   \n",
      "4                DESPAIR               MEH  ...                   JOY   \n",
      "6                    MEH               MEH  ...                   MEH   \n",
      "\n",
      "  Q6 | Tolberone something or other Q6 | Trail Mix Q6 | Twix  \\\n",
      "1                               JOY        DESPAIR       JOY   \n",
      "2                               MEH            MEH       MEH   \n",
      "3                               JOY            MEH       JOY   \n",
      "4                               JOY        DESPAIR       JOY   \n",
      "6                               MEH            MEH       MEH   \n",
      "\n",
      "  Q6 | Vials of pure high fructose corn syrup, for main-lining into your vein  \\\n",
      "1                                            DESPAIR                            \n",
      "2                                                MEH                            \n",
      "3                                            DESPAIR                            \n",
      "4                                                MEH                            \n",
      "6                                                MEH                            \n",
      "\n",
      "  Q6 | Vicodin Q6 | Whatchamacallit Bars Q6 | White Bread  \\\n",
      "1      DESPAIR                   DESPAIR          DESPAIR   \n",
      "2          MEH                       MEH              MEH   \n",
      "3          JOY                       JOY          DESPAIR   \n",
      "4          JOY                       JOY          DESPAIR   \n",
      "6          MEH                       MEH              MEH   \n",
      "\n",
      "  Q6 | Whole Wheat anything Q6 | York Peppermint Patties  \n",
      "1                   DESPAIR                      DESPAIR  \n",
      "2                       MEH                          MEH  \n",
      "3                   DESPAIR                      DESPAIR  \n",
      "4                   DESPAIR                          JOY  \n",
      "6                       MEH                          MEH  \n",
      "\n",
      "[5 rows x 103 columns]\n"
     ]
    }
   ],
   "source": [
    "df = data.loc[:,'Q6 | 100 Grand Bar':'Q6 | York Peppermint Patties'] # creating a data frame for candies only\n",
    "print(df.head())"
   ]
  },
  {
   "cell_type": "code",
   "execution_count": 690,
   "metadata": {},
   "outputs": [
    {
     "name": "stdout",
     "output_type": "stream",
     "text": [
      "Q6 | Any full-sized candy bar                1497\n",
      "Q6 | Reese’s Peanut Butter Cups              1437\n",
      "Q6 | Kit Kat                                 1379\n",
      "Q6 | Cash, or other forms of legal tender    1378\n",
      "Q6 | Twix                                    1358\n",
      "Q6 | Snickers                                1338\n",
      "Q6 | Tolberone something or other            1266\n",
      "Q6 | Peanut M&M’s                            1242\n",
      "Q6 | Lindt Truffle                           1220\n",
      "Q6 | Nestle Crunch                           1140\n",
      "dtype: int64\n",
      "Q6 | Broken glow stick                                                         1560\n",
      "Q6 | Real Housewives of Orange County Season 9 Blue-Ray                        1416\n",
      "Q6 | Gum from baseball cards                                                   1399\n",
      "Q6 | White Bread                                                               1394\n",
      "Q6 | Kale smoothie                                                             1377\n",
      "Q6 | Dental paraphenalia                                                       1372\n",
      "Q6 | Creepy Religious comics/Chick Tracts                                      1345\n",
      "Q6 | Candy that is clearly just the stuff given out for free at restaurants    1270\n",
      "Q6 | Whole Wheat anything                                                      1240\n",
      "Q6 | Those odd marshmallow circus peanut things                                1201\n",
      "dtype: int64\n"
     ]
    }
   ],
   "source": [
    "def num_of_value(df,cols,value):\n",
    "    value_counts = {}\n",
    "    for col in cols :\n",
    "        num = ( df[col] == value ).sum()\n",
    "        value_counts[col] = num\n",
    "    return value_counts\n",
    "# get the 10 most 'JOY' candy\n",
    "num_joy = num_of_value(df,df.columns,\"JOY\") # call the function for 'JOY'\n",
    "num_joy_series = pd.Series(num_joy) # convert to series to treat it with pandas \n",
    "num_joy_series = num_joy_series.sort_values(ascending=False) # sort values from higher to lower \n",
    "the_most_10_joy = num_joy_series.head(10) # get the 10 most candies \"JOY\"\n",
    "print(the_most_10_joy)\n",
    "\n",
    "# get the 10 most 'DESPAIR' candy\n",
    "num_des = num_of_value(df,df.columns,\"DESPAIR\") # call the function for 'DESPAIR'\n",
    "num_des_series = pd.Series(num_des) # convert to series to treat it with pandas\n",
    "num_des_series = num_des_series.sort_values(ascending=False) # sort values from higher to lower\n",
    "the_most_10_des = num_des_series.head(10) # get the most candies 'DESPAIR'\n",
    "print(the_most_10_des)\n"
   ]
  },
  {
   "cell_type": "markdown",
   "metadata": {},
   "source": [
    "> After i  got the most 10 \"JOY\"&\"DESPAIR\" candies , i prefer to visualize it "
   ]
  },
  {
   "cell_type": "markdown",
   "metadata": {},
   "source": [
    "# visualization"
   ]
  },
  {
   "cell_type": "code",
   "execution_count": 691,
   "metadata": {},
   "outputs": [
    {
     "data": {
      "image/png": "[encoded data removed]",
      "text/plain": [
       "<Figure size 640x480 with 1 Axes>"
      ]
     },
     "metadata": {},
     "output_type": "display_data"
    }
   ],
   "source": [
    "# PIE chart for the most 10 'JOY' candies\n",
    "plt.pie(the_most_10_joy, labels=the_most_10_joy.index ,autopct='%1.1f%%')\n",
    "plt.show()"
   ]
  },
  {
   "cell_type": "code",
   "execution_count": 692,
   "metadata": {},
   "outputs": [
    {
     "data": {
      "image/png": "[encoded data removed]",
      "text/plain": [
       "<Figure size 640x480 with 1 Axes>"
      ]
     },
     "metadata": {},
     "output_type": "display_data"
    }
   ],
   "source": [
    "# PIE chart for the most 10 'DESPAIR' candies\n",
    "plt.pie(the_most_10_des, labels=the_most_10_des.index ,autopct='%1.1f%%')\n",
    "plt.show()"
   ]
  }
 ],
 "metadata": {
  "kernelspec": {
   "display_name": "Python 3",
   "language": "python",
   "name": "python3"
  },
  "language_info": {
   "codemirror_mode": {
    "name": "ipython",
    "version": 3
   },
   "file_extension": ".py",
   "mimetype": "text/x-python",
   "name": "python",
   "nbconvert_exporter": "python",
   "pygments_lexer": "ipython3",
   "version": "3.12.5"
  }
 },
 "nbformat": 4,
 "nbformat_minor": 2
}
