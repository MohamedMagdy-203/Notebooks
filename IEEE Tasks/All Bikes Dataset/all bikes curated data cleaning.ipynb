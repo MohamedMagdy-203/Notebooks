{
 "cells": [
  {
   "cell_type": "markdown",
   "id": "2edca981-a155-48b2-94f4-81f2f1ceac1d",
   "metadata": {},
   "source": [
    "# Data Cleaning "
   ]
  },
  {
   "cell_type": "markdown",
   "id": "28669a36-b693-4642-8cb0-14d5b5b8eea3",
   "metadata": {},
   "source": [
    "### Frist I import the important liberaries "
   ]
  },
  {
   "cell_type": "code",
   "execution_count": 515,
   "id": "af8c446f-fdc2-402f-bbff-adf66e72a9bc",
   "metadata": {},
   "outputs": [],
   "source": [
    "import pandas as pd \n",
    "import numpy as np \n",
    "import matplotlib.pyplot as plt\n",
    "import seaborn as sns\n",
    "import datetime as dt\n",
    "import warnings \n",
    "warnings.filterwarnings('ignore')"
   ]
  },
  {
   "cell_type": "code",
   "execution_count": 516,
   "id": "20fc9540-9417-4ec5-ac03-e3ec758d363a",
   "metadata": {},
   "outputs": [
    {
     "data": {
      "text/html": [
       "<div>\n",
       "<style scoped>\n",
       "    .dataframe tbody tr th:only-of-type {\n",
       "        vertical-align: middle;\n",
       "    }\n",
       "\n",
       "    .dataframe tbody tr th {\n",
       "        vertical-align: top;\n",
       "    }\n",
       "\n",
       "    .dataframe thead th {\n",
       "        text-align: right;\n",
       "    }\n",
       "</style>\n",
       "<table border=\"1\" class=\"dataframe\">\n",
       "  <thead>\n",
       "    <tr style=\"text-align: right;\">\n",
       "      <th></th>\n",
       "      <th>Brand</th>\n",
       "      <th>Model</th>\n",
       "      <th>Year</th>\n",
       "      <th>Category</th>\n",
       "      <th>Displacement (ccm)</th>\n",
       "      <th>Power (hp)</th>\n",
       "      <th>Engine cylinder</th>\n",
       "      <th>Engine stroke</th>\n",
       "      <th>Gearbox</th>\n",
       "      <th>Fuel capacity (lts)</th>\n",
       "      <th>Fuel system</th>\n",
       "      <th>Fuel control</th>\n",
       "      <th>Cooling system</th>\n",
       "      <th>Transmission type</th>\n",
       "      <th>Dry weight (kg)</th>\n",
       "      <th>Wheelbase (mm)</th>\n",
       "      <th>Seat height (mm)</th>\n",
       "    </tr>\n",
       "  </thead>\n",
       "  <tbody>\n",
       "    <tr>\n",
       "      <th>0</th>\n",
       "      <td>acabion</td>\n",
       "      <td>da vinci 650-vi</td>\n",
       "      <td>2011</td>\n",
       "      <td>Prototype / concept model</td>\n",
       "      <td>NaN</td>\n",
       "      <td>804.0</td>\n",
       "      <td>Electric</td>\n",
       "      <td>Electric</td>\n",
       "      <td>NaN</td>\n",
       "      <td>NaN</td>\n",
       "      <td>NaN</td>\n",
       "      <td>NaN</td>\n",
       "      <td>Liquid</td>\n",
       "      <td>Chain</td>\n",
       "      <td>420.0</td>\n",
       "      <td>NaN</td>\n",
       "      <td>NaN</td>\n",
       "    </tr>\n",
       "    <tr>\n",
       "      <th>1</th>\n",
       "      <td>acabion</td>\n",
       "      <td>gtbo 55</td>\n",
       "      <td>2007</td>\n",
       "      <td>Sport</td>\n",
       "      <td>1300.0</td>\n",
       "      <td>541.0</td>\n",
       "      <td>In-line four</td>\n",
       "      <td>four-stroke</td>\n",
       "      <td>6-speed</td>\n",
       "      <td>NaN</td>\n",
       "      <td>Turbo. KKK Acabion Extended</td>\n",
       "      <td>NaN</td>\n",
       "      <td>Liquid</td>\n",
       "      <td>NaN</td>\n",
       "      <td>360.0</td>\n",
       "      <td>NaN</td>\n",
       "      <td>NaN</td>\n",
       "    </tr>\n",
       "    <tr>\n",
       "      <th>2</th>\n",
       "      <td>acabion</td>\n",
       "      <td>gtbo 600 daytona-vi</td>\n",
       "      <td>2011</td>\n",
       "      <td>Prototype / concept model</td>\n",
       "      <td>NaN</td>\n",
       "      <td>536.0</td>\n",
       "      <td>Electric</td>\n",
       "      <td>Electric</td>\n",
       "      <td>NaN</td>\n",
       "      <td>NaN</td>\n",
       "      <td>NaN</td>\n",
       "      <td>NaN</td>\n",
       "      <td>Liquid</td>\n",
       "      <td>NaN</td>\n",
       "      <td>420.0</td>\n",
       "      <td>NaN</td>\n",
       "      <td>NaN</td>\n",
       "    </tr>\n",
       "    <tr>\n",
       "      <th>3</th>\n",
       "      <td>acabion</td>\n",
       "      <td>gtbo 600 daytona-vi</td>\n",
       "      <td>2021</td>\n",
       "      <td>Prototype / concept model</td>\n",
       "      <td>NaN</td>\n",
       "      <td>536.0</td>\n",
       "      <td>Electric</td>\n",
       "      <td>Electric</td>\n",
       "      <td>NaN</td>\n",
       "      <td>NaN</td>\n",
       "      <td>NaN</td>\n",
       "      <td>NaN</td>\n",
       "      <td>Liquid</td>\n",
       "      <td>NaN</td>\n",
       "      <td>420.0</td>\n",
       "      <td>NaN</td>\n",
       "      <td>NaN</td>\n",
       "    </tr>\n",
       "    <tr>\n",
       "      <th>4</th>\n",
       "      <td>acabion</td>\n",
       "      <td>gtbo 70</td>\n",
       "      <td>2007</td>\n",
       "      <td>Prototype / concept model</td>\n",
       "      <td>1300.0</td>\n",
       "      <td>689.0</td>\n",
       "      <td>In-line four</td>\n",
       "      <td>four-stroke</td>\n",
       "      <td>6-speed</td>\n",
       "      <td>NaN</td>\n",
       "      <td>Turbo. KKK Acabion Extended</td>\n",
       "      <td>NaN</td>\n",
       "      <td>Liquid</td>\n",
       "      <td>NaN</td>\n",
       "      <td>300.0</td>\n",
       "      <td>NaN</td>\n",
       "      <td>NaN</td>\n",
       "    </tr>\n",
       "  </tbody>\n",
       "</table>\n",
       "</div>"
      ],
      "text/plain": [
       "     Brand                Model  Year                   Category  \\\n",
       "0  acabion      da vinci 650-vi  2011  Prototype / concept model   \n",
       "1  acabion              gtbo 55  2007                      Sport   \n",
       "2  acabion  gtbo 600 daytona-vi  2011  Prototype / concept model   \n",
       "3  acabion  gtbo 600 daytona-vi  2021  Prototype / concept model   \n",
       "4  acabion              gtbo 70  2007  Prototype / concept model   \n",
       "\n",
       "   Displacement (ccm)  Power (hp) Engine cylinder Engine stroke  Gearbox  \\\n",
       "0                 NaN       804.0        Electric      Electric      NaN   \n",
       "1              1300.0       541.0    In-line four   four-stroke  6-speed   \n",
       "2                 NaN       536.0        Electric      Electric      NaN   \n",
       "3                 NaN       536.0        Electric      Electric      NaN   \n",
       "4              1300.0       689.0    In-line four   four-stroke  6-speed   \n",
       "\n",
       "   Fuel capacity (lts)                  Fuel system Fuel control  \\\n",
       "0                  NaN                          NaN          NaN   \n",
       "1                  NaN  Turbo. KKK Acabion Extended          NaN   \n",
       "2                  NaN                          NaN          NaN   \n",
       "3                  NaN                          NaN          NaN   \n",
       "4                  NaN  Turbo. KKK Acabion Extended          NaN   \n",
       "\n",
       "  Cooling system Transmission type  Dry weight (kg)  Wheelbase (mm)  \\\n",
       "0         Liquid             Chain            420.0             NaN   \n",
       "1         Liquid               NaN            360.0             NaN   \n",
       "2         Liquid               NaN            420.0             NaN   \n",
       "3         Liquid               NaN            420.0             NaN   \n",
       "4         Liquid               NaN            300.0             NaN   \n",
       "\n",
       "   Seat height (mm)  \n",
       "0               NaN  \n",
       "1               NaN  \n",
       "2               NaN  \n",
       "3               NaN  \n",
       "4               NaN  "
      ]
     },
     "execution_count": 516,
     "metadata": {},
     "output_type": "execute_result"
    }
   ],
   "source": [
    "df = pd.read_csv(r\"all_bikez_curated (1).csv\")\n",
    "df.head()"
   ]
  },
  {
   "cell_type": "code",
   "execution_count": 517,
   "id": "b6f4ce0d-f7a2-4cac-8142-d43f6b29e1fc",
   "metadata": {},
   "outputs": [
    {
     "data": {
      "text/plain": [
       "Index(['Brand', 'Model', 'Year', 'Category', 'Displacement (ccm)',\n",
       "       'Power (hp)', 'Engine cylinder', 'Engine stroke', 'Gearbox',\n",
       "       'Fuel capacity (lts)', 'Fuel system', 'Fuel control', 'Cooling system',\n",
       "       'Transmission type', 'Dry weight (kg)', 'Wheelbase (mm)',\n",
       "       'Seat height (mm)'],\n",
       "      dtype='object')"
      ]
     },
     "execution_count": 517,
     "metadata": {},
     "output_type": "execute_result"
    }
   ],
   "source": [
    "df.columns "
   ]
  },
  {
   "cell_type": "code",
   "execution_count": 518,
   "id": "0d792713-b33a-4d39-887c-f46f8a84f2d8",
   "metadata": {},
   "outputs": [
    {
     "data": {
      "text/plain": [
       "Brand                   object\n",
       "Model                   object\n",
       "Year                    object\n",
       "Category                object\n",
       "Displacement (ccm)     float64\n",
       "Power (hp)             float64\n",
       "Engine cylinder         object\n",
       "Engine stroke           object\n",
       "Gearbox                 object\n",
       "Fuel capacity (lts)    float64\n",
       "Fuel system             object\n",
       "Fuel control            object\n",
       "Cooling system          object\n",
       "Transmission type       object\n",
       "Dry weight (kg)        float64\n",
       "Wheelbase (mm)         float64\n",
       "Seat height (mm)       float64\n",
       "dtype: object"
      ]
     },
     "execution_count": 518,
     "metadata": {},
     "output_type": "execute_result"
    }
   ],
   "source": [
    "df.dtypes"
   ]
  },
  {
   "cell_type": "markdown",
   "id": "c94ed94d-8a41-43ec-b18c-9af994f59214",
   "metadata": {},
   "source": [
    "### Cheack if there duplicated rows and if there I will drop them"
   ]
  },
  {
   "cell_type": "code",
   "execution_count": 520,
   "id": "9d393fba-7256-4596-8932-2ab7f5aaa301",
   "metadata": {},
   "outputs": [
    {
     "data": {
      "text/plain": [
       "8"
      ]
     },
     "execution_count": 520,
     "metadata": {},
     "output_type": "execute_result"
    }
   ],
   "source": [
    "df.duplicated().sum()"
   ]
  },
  {
   "cell_type": "code",
   "execution_count": 521,
   "id": "2b93662c-e0ad-4529-8776-36437ac53dc7",
   "metadata": {},
   "outputs": [
    {
     "data": {
      "text/plain": [
       "0"
      ]
     },
     "execution_count": 521,
     "metadata": {},
     "output_type": "execute_result"
    }
   ],
   "source": [
    "df = df.drop_duplicates()\n",
    "df.duplicated().sum()"
   ]
  },
  {
   "cell_type": "code",
   "execution_count": 522,
   "id": "db454be6-885e-449e-9ffd-378f7ae0af8e",
   "metadata": {},
   "outputs": [
    {
     "data": {
      "text/plain": [
       "Brand                      0\n",
       "Model                     28\n",
       "Year                       0\n",
       "Category                   0\n",
       "Displacement (ccm)      1029\n",
       "Power (hp)             12380\n",
       "Engine cylinder           16\n",
       "Engine stroke             11\n",
       "Gearbox                 5807\n",
       "Fuel capacity (lts)     6793\n",
       "Fuel system            10648\n",
       "Fuel control           16506\n",
       "Cooling system          4219\n",
       "Transmission type       5628\n",
       "Dry weight (kg)        16007\n",
       "Wheelbase (mm)         13007\n",
       "Seat height (mm)       14311\n",
       "dtype: int64"
      ]
     },
     "execution_count": 522,
     "metadata": {},
     "output_type": "execute_result"
    }
   ],
   "source": [
    "df.isna().sum()"
   ]
  },
  {
   "cell_type": "markdown",
   "id": "6dd4155d-d16f-4477-857f-9d289914376e",
   "metadata": {},
   "source": [
    "### remove the missing values in ['Model','Engine cylinder', 'Engine stroke'] columns"
   ]
  },
  {
   "cell_type": "code",
   "execution_count": 538,
   "id": "ba8e1d27-930e-454a-b1d7-50a2eb39b21f",
   "metadata": {},
   "outputs": [
    {
     "data": {
      "text/plain": [
       "Brand                      0\n",
       "Model                      0\n",
       "Year                       0\n",
       "Category                   0\n",
       "Displacement (ccm)         0\n",
       "Power (hp)                 0\n",
       "Engine cylinder            0\n",
       "Engine stroke              0\n",
       "Gearbox                 3134\n",
       "Fuel capacity (lts)     3355\n",
       "Fuel system             7781\n",
       "Fuel control            8181\n",
       "Cooling system          2276\n",
       "Transmission type       2905\n",
       "Dry weight (kg)        10176\n",
       "Wheelbase (mm)          9135\n",
       "Seat height (mm)        9624\n",
       "dtype: int64"
      ]
     },
     "execution_count": 538,
     "metadata": {},
     "output_type": "execute_result"
    }
   ],
   "source": [
    "# remove the missing values in ['Model','Engine cylinder', 'Engine stroke'] columns\n",
    "df.dropna(subset=['Model','Engine cylinder', 'Engine stroke'], inplace=True)\n",
    "df.isna().sum()"
   ]
  },
  {
   "cell_type": "markdown",
   "id": "604b7625-a0d8-433c-8646-63cab7ba0ce9",
   "metadata": {},
   "source": [
    "### I will start with 'Year' column "
   ]
  },
  {
   "cell_type": "code",
   "execution_count": 524,
   "id": "a1d00195-70a7-46fb-91c2-0a77edc5bf18",
   "metadata": {},
   "outputs": [
    {
     "data": {
      "text/plain": [
       "array([2011, 2007, 2021, 2016, 2018, 2020, 2022, 1923, 1924, 1925, 1926,\n",
       "       1927, 2009, 2010, 2014, 2008, 2019, 2012, 2013, 2040, 1957, 1958,\n",
       "       1955, 1956, 1952, 1953, 1954, 1959, 1960, 2077, 2003, 3019, 1961,\n",
       "       1962, 1963, 1964, 1965, 1966, 1967, 1968, 1969, 1971, 1972, 1970,\n",
       "       1974, 2005, 2015, 2006, 1922, 1928, 1949, 1950, 1951, 2001, 2017,\n",
       "       1986, 1999, 1985, 1987, 1996, 1991, 1988, 1989, 1990, 1992, 2004,\n",
       "       2002, 1997, 1998, 2000, 1993, 1984, 1995, 1948, 1937, 1938, 1931,\n",
       "       1901, 1902, 1903, 1913, 1914, 1915, 1916, 1918, 1932, 1933, 1934,\n",
       "       1935, 1936, 1939, 1940, 1941, 1942, 1943, 1944, 1945, 1946, 1947,\n",
       "       1898, 1910, 1929, 1975, 1976, 1973, 1977, 1978, 1979, 1980, 1982,\n",
       "       1983, 1981, 1917, 1919, 1994, 1930, 1897, 1920, 1921, 1899, 1900,\n",
       "       1904, 1911, 1912, 1896, 1909, 1905, 1906, 1907, 1908, 1894, 1895])"
      ]
     },
     "execution_count": 524,
     "metadata": {},
     "output_type": "execute_result"
    }
   ],
   "source": [
    "df['Year'] = df['Year'].astype('str').str.extract(r'(\\d{1,4})') # convert to string and extract the number only\n",
    "df['Year'] = df['Year'].astype('int') # convert to int \n",
    "df['Year'].unique()"
   ]
  },
  {
   "cell_type": "code",
   "execution_count": 525,
   "id": "f81a5fa1-f632-4428-8933-f911b7247b7f",
   "metadata": {},
   "outputs": [
    {
     "name": "stdout",
     "output_type": "stream",
     "text": [
      "58     2040\n",
      "133    2077\n",
      "170    3019\n",
      "Name: Year, dtype: int32\n"
     ]
    }
   ],
   "source": [
    "print(df.loc[df['Year'] > 2025,'Year']) # print the years that can not be logic"
   ]
  },
  {
   "cell_type": "code",
   "execution_count": 526,
   "id": "27b39371-9c85-45d5-9675-8646ab00aecf",
   "metadata": {},
   "outputs": [
    {
     "name": "stdout",
     "output_type": "stream",
     "text": [
      "Series([], Name: Year, dtype: int32)\n"
     ]
    }
   ],
   "source": [
    "# convert the years to logic dates\n",
    "df.loc[df['Year'] == 2040, 'Year'] = 2004  \n",
    "df.loc[df['Year'] == 2077, 'Year'] = 2007\n",
    "df.loc[df['Year'] == 3019, 'Year'] = 2019\n",
    "print(df.loc[df['Year'] > 2025,'Year'])"
   ]
  },
  {
   "cell_type": "code",
   "execution_count": 527,
   "id": "fe184683-b303-4ccc-b842-cc2500f4157e",
   "metadata": {},
   "outputs": [],
   "source": [
    " # convert year column to date type\n",
    "df['Year'] = pd.to_datetime(df['Year'], errors='coerce')  # Convert to datetime\n",
    "df['Year'] = df['Year'].dt.year  # Extract only the year"
   ]
  },
  {
   "cell_type": "markdown",
   "id": "e81b4b8f-006f-4d42-ae1d-9ad20ce84594",
   "metadata": {},
   "source": [
    "### 'Displacement (ccm)' column "
   ]
  },
  {
   "cell_type": "code",
   "execution_count": 529,
   "id": "2b7f3631-eaf3-4a3c-a2dd-2d098308878f",
   "metadata": {},
   "outputs": [
    {
     "data": {
      "text/plain": [
       "count    37506.000000\n",
       "mean       552.398731\n",
       "std        545.370040\n",
       "min         25.000000\n",
       "25%        125.000000\n",
       "50%        397.000000\n",
       "75%        805.000000\n",
       "max       8277.000000\n",
       "Name: Displacement (ccm), dtype: float64"
      ]
     },
     "execution_count": 529,
     "metadata": {},
     "output_type": "execute_result"
    }
   ],
   "source": [
    "df['Displacement (ccm)'].describe() # get describtion to 'Displacement (ccm)'"
   ]
  },
  {
   "cell_type": "code",
   "execution_count": 530,
   "id": "bb4cf141-925b-45bb-a620-b3d25d9ebc70",
   "metadata": {},
   "outputs": [
    {
     "data": {
      "image/png": "[encoded data removed]",
      "text/plain": [
       "<Figure size 640x480 with 1 Axes>"
      ]
     },
     "metadata": {},
     "output_type": "display_data"
    }
   ],
   "source": [
    "# visulize the 'Displacement (ccm)' column to be clear with values\n",
    "sns.boxplot(data = df['Displacement (ccm)'])\n",
    "plt.show() "
   ]
  },
  {
   "cell_type": "code",
   "execution_count": 531,
   "id": "4d2745d3-b9fe-42d5-a9ef-120d52f68068",
   "metadata": {},
   "outputs": [
    {
     "data": {
      "text/plain": [
       "count    37423.000000\n",
       "mean       540.331237\n",
       "std        479.767798\n",
       "min         25.000000\n",
       "25%        125.000000\n",
       "50%        396.000000\n",
       "75%        803.000000\n",
       "max       2491.000000\n",
       "Name: Displacement (ccm), dtype: float64"
      ]
     },
     "execution_count": 531,
     "metadata": {},
     "output_type": "execute_result"
    }
   ],
   "source": [
    "# I will remove the values with more than 2500 cc to be more logic\n",
    "df = df[df['Displacement (ccm)']<=2500]\n",
    "df['Displacement (ccm)'].describe()"
   ]
  },
  {
   "cell_type": "code",
   "execution_count": 532,
   "id": "7aff760e-fac5-442f-8b61-7d9d2da93fd7",
   "metadata": {},
   "outputs": [
    {
     "data": {
      "text/plain": [
       "Brand                      0\n",
       "Model                     28\n",
       "Year                       0\n",
       "Category                   0\n",
       "Displacement (ccm)         0\n",
       "Power (hp)             12185\n",
       "Engine cylinder           16\n",
       "Engine stroke             11\n",
       "Gearbox                 5417\n",
       "Fuel capacity (lts)     5787\n",
       "Fuel system             9618\n",
       "Fuel control           15440\n",
       "Cooling system          3984\n",
       "Transmission type       5073\n",
       "Dry weight (kg)        15590\n",
       "Wheelbase (mm)         12587\n",
       "Seat height (mm)       13865\n",
       "dtype: int64"
      ]
     },
     "execution_count": 532,
     "metadata": {},
     "output_type": "execute_result"
    }
   ],
   "source": [
    "df.isna().sum()"
   ]
  },
  {
   "cell_type": "markdown",
   "id": "72d6a2bd-5d90-4c44-8a17-be848a5497a1",
   "metadata": {},
   "source": [
    "### 'Power (hp)' column"
   ]
  },
  {
   "cell_type": "code",
   "execution_count": 534,
   "id": "31e179c9-fe7a-4abd-aaeb-0268df98e179",
   "metadata": {},
   "outputs": [
    {
     "data": {
      "text/plain": [
       "count    25238.000000\n",
       "mean        50.327011\n",
       "std         47.187112\n",
       "min          0.500000\n",
       "25%         12.500000\n",
       "50%         32.000000\n",
       "75%         78.000000\n",
       "max        689.000000\n",
       "Name: Power (hp), dtype: float64"
      ]
     },
     "execution_count": 534,
     "metadata": {},
     "output_type": "execute_result"
    }
   ],
   "source": [
    "# get describtion to 'Power (hp)' column\n",
    "df['Power (hp)'].describe()"
   ]
  },
  {
   "cell_type": "code",
   "execution_count": 535,
   "id": "e9eff90b-7b74-4e9a-ac4e-d022eeb01650",
   "metadata": {},
   "outputs": [
    {
     "data": {
      "image/png": "[encoded data removed]",
      "text/plain": [
       "<Figure size 640x480 with 1 Axes>"
      ]
     },
     "metadata": {},
     "output_type": "display_data"
    }
   ],
   "source": [
    "# visulize the 'Power (hp)' column to can treat with it\n",
    "sns.boxplot(data = df['Power (hp)'])\n",
    "plt.show()"
   ]
  },
  {
   "cell_type": "code",
   "execution_count": 536,
   "id": "e6666254-8e06-42dd-aca1-c84e10b31a05",
   "metadata": {},
   "outputs": [
    {
     "data": {
      "text/plain": [
       "count    23537.000000\n",
       "mean        53.670404\n",
       "std         46.791155\n",
       "min          5.000000\n",
       "25%         15.000000\n",
       "50%         39.500000\n",
       "75%         83.100000\n",
       "max        310.000000\n",
       "Name: Power (hp), dtype: float64"
      ]
     },
     "execution_count": 536,
     "metadata": {},
     "output_type": "execute_result"
    }
   ],
   "source": [
    "# remove the values with less than 5 and more than 350 (hp)\n",
    "df = df[(df['Power (hp)']<=350)&(df['Power (hp)']>=5)]\n",
    "df['Power (hp)'].describe()"
   ]
  },
  {
   "cell_type": "code",
   "execution_count": 537,
   "id": "33efa9a3-d826-4ba8-8b1d-138964ac2b03",
   "metadata": {},
   "outputs": [
    {
     "data": {
      "text/plain": [
       "Brand                      0\n",
       "Model                     14\n",
       "Year                       0\n",
       "Category                   0\n",
       "Displacement (ccm)         0\n",
       "Power (hp)                 0\n",
       "Engine cylinder           13\n",
       "Engine stroke              8\n",
       "Gearbox                 3143\n",
       "Fuel capacity (lts)     3371\n",
       "Fuel system             7792\n",
       "Fuel control            8203\n",
       "Cooling system          2287\n",
       "Transmission type       2913\n",
       "Dry weight (kg)        10183\n",
       "Wheelbase (mm)          9155\n",
       "Seat height (mm)        9637\n",
       "dtype: int64"
      ]
     },
     "execution_count": 537,
     "metadata": {},
     "output_type": "execute_result"
    }
   ],
   "source": [
    "df.isna().sum()"
   ]
  },
  {
   "cell_type": "markdown",
   "id": "be58983b-20b4-4bf5-83ea-396db0286784",
   "metadata": {},
   "source": [
    "### 'Engine cylinder' column"
   ]
  },
  {
   "cell_type": "code",
   "execution_count": 540,
   "id": "70d77be1-6cab-4cc8-9f71-4d36dce8109f",
   "metadata": {},
   "outputs": [
    {
     "data": {
      "text/plain": [
       "array(['Single cylinder', 'Twin', 'V2', 'Four cylinder boxer', 'V4',\n",
       "       'Square four cylinder', 'In-line four', 'In-line six',\n",
       "       'In-line three', 'Six cylinder boxer', 'Two cylinder boxer', 'V8',\n",
       "       'Diesel', 'Single disk Wankel', 'V3', 'V6', 'Dual disk Wankel'],\n",
       "      dtype=object)"
      ]
     },
     "execution_count": 540,
     "metadata": {},
     "output_type": "execute_result"
    }
   ],
   "source": [
    "# get the values in 'Engine cylinder' column to see if there an unusually values\n",
    "df['Engine cylinder'].unique()"
   ]
  },
  {
   "cell_type": "markdown",
   "id": "ca624436-6b01-49da-9007-cd538020480b",
   "metadata": {},
   "source": [
    "### 'Gearbox' column"
   ]
  },
  {
   "cell_type": "code",
   "execution_count": 542,
   "id": "17919f9e-8bde-4c4e-93c9-d66f7aee4cba",
   "metadata": {},
   "outputs": [
    {
     "data": {
      "text/plain": [
       "array(['Automatic', '5-speed', nan, '4-speed', '3-speed', '6-speed',\n",
       "       '1-speed', '7-speed', '4-speed with reverse', '2-speed',\n",
       "       '2-speed automatic', '10-speed', '5-speed with reverse',\n",
       "       '6-speed with reverse', '3-speed automatic', '8-speed'],\n",
       "      dtype=object)"
      ]
     },
     "execution_count": 542,
     "metadata": {},
     "output_type": "execute_result"
    }
   ],
   "source": [
    "df['Gearbox'].unique()"
   ]
  },
  {
   "cell_type": "code",
   "execution_count": 543,
   "id": "d530381f-0440-45d0-af09-9fd0553350c7",
   "metadata": {},
   "outputs": [
    {
     "data": {
      "text/plain": [
       "array(['Automatic', '5-speed', nan, '4-speed', '3-speed', '6-speed',\n",
       "       '1-speed', '4-speed with reverse', '2-speed', '2-speed automatic',\n",
       "       '5-speed with reverse', '6-speed with reverse',\n",
       "       '3-speed automatic'], dtype=object)"
      ]
     },
     "execution_count": 543,
     "metadata": {},
     "output_type": "execute_result"
    }
   ],
   "source": [
    "# remove this ['10-speed', '8-speed','7-speed'] values \n",
    "df = df[~df['Gearbox'].isin(['10-speed', '8-speed','7-speed'])]\n",
    "df['Gearbox'].unique()"
   ]
  },
  {
   "cell_type": "code",
   "execution_count": 544,
   "id": "03cdfa80-bf48-4039-9b2d-f66599687fc7",
   "metadata": {},
   "outputs": [],
   "source": [
    "df['Gearbox'] = df['Gearbox'].astype('category')"
   ]
  },
  {
   "cell_type": "markdown",
   "id": "60bde9ee-5f8b-4679-b402-a7ec87867836",
   "metadata": {},
   "source": [
    "### 'Fuel capacity (lts)' column "
   ]
  },
  {
   "cell_type": "code",
   "execution_count": 546,
   "id": "c802a6ff-ec2b-46a6-9b99-583b6fe34535",
   "metadata": {},
   "outputs": [
    {
     "data": {
      "text/plain": [
       "count    20134.000000\n",
       "mean        14.816877\n",
       "std          5.471153\n",
       "min          1.000000\n",
       "25%         11.000000\n",
       "50%         15.000000\n",
       "75%         18.000000\n",
       "max         52.000000\n",
       "Name: Fuel capacity (lts), dtype: float64"
      ]
     },
     "execution_count": 546,
     "metadata": {},
     "output_type": "execute_result"
    }
   ],
   "source": [
    "df['Fuel capacity (lts)'].describe()"
   ]
  },
  {
   "cell_type": "code",
   "execution_count": 547,
   "id": "a4b15b0a-1c36-48af-b8eb-1b4eb46de16d",
   "metadata": {},
   "outputs": [
    {
     "data": {
      "image/png": "[encoded data removed]",
      "text/plain": [
       "<Figure size 640x480 with 1 Axes>"
      ]
     },
     "metadata": {},
     "output_type": "display_data"
    }
   ],
   "source": [
    "# visulize 'Fuel capacity (lts)'\n",
    "sns.boxplot(df['Fuel capacity (lts)'])\n",
    "plt.show()"
   ]
  },
  {
   "cell_type": "code",
   "execution_count": 548,
   "id": "7c58cdf9-4388-4133-a04f-561b9be8c59f",
   "metadata": {},
   "outputs": [
    {
     "data": {
      "text/plain": [
       "0"
      ]
     },
     "execution_count": 548,
     "metadata": {},
     "output_type": "execute_result"
    }
   ],
   "source": [
    "# Fill missing values with the mean value \n",
    "df['Fuel capacity (lts)'] = df['Fuel capacity (lts)'].fillna(df['Fuel capacity (lts)'].mean())\n",
    "df['Fuel capacity (lts)'].isna().sum()"
   ]
  },
  {
   "cell_type": "markdown",
   "id": "635c5c12-b8e7-4da9-b443-6c3844354593",
   "metadata": {},
   "source": [
    "### 'Fuel system' column "
   ]
  },
  {
   "cell_type": "code",
   "execution_count": 550,
   "id": "bf473137-0c0e-4b2c-93ef-05d8a297ca24",
   "metadata": {},
   "outputs": [
    {
     "data": {
      "text/plain": [
       "array(['Carburettor', 'Injection. EFI', nan, ...,\n",
       "       'Carburettor. Bing 20mm', 'Carburettor. Amal 22mm',\n",
       "       'Carburettor. Bing 19mm (1/19/36)'], dtype=object)"
      ]
     },
     "execution_count": 550,
     "metadata": {},
     "output_type": "execute_result"
    }
   ],
   "source": [
    "df['Fuel system'].unique()"
   ]
  },
  {
   "cell_type": "code",
   "execution_count": 551,
   "id": "445f279f-0545-4c14-998d-6c7269f4ec5a",
   "metadata": {},
   "outputs": [],
   "source": [
    "df['Fuel system'] = df['Fuel system'].astype('category')"
   ]
  },
  {
   "cell_type": "markdown",
   "id": "ba0a9613-23a5-429e-8417-83d53acd2b18",
   "metadata": {},
   "source": [
    "### 'Fuel control' column"
   ]
  },
  {
   "cell_type": "code",
   "execution_count": 553,
   "id": "e7480af0-d4fc-419d-9cc4-7548246fd261",
   "metadata": {},
   "outputs": [
    {
     "data": {
      "text/plain": [
       "array(['Overhead Valves (OHV)', 'Overhead Cams (OHC)', nan,\n",
       "       'Single Overhead Cams (SOHC)',\n",
       "       'Double Overhead Cams/Twin Cam (DOHC)', 'Port control',\n",
       "       'Rotary valves', 'Membrane & variable discharge openings',\n",
       "       'Membrane', 'Desmodromic valve control', 'Sidevalves',\n",
       "       'Standing valves', 'Pushrods', 'Membrane & power valve',\n",
       "       'Rotary valves & variable discharge openings'], dtype=object)"
      ]
     },
     "execution_count": 553,
     "metadata": {},
     "output_type": "execute_result"
    }
   ],
   "source": [
    "df['Fuel control'].unique()"
   ]
  },
  {
   "cell_type": "code",
   "execution_count": 554,
   "id": "d71a5daa-da65-4b93-bf24-77ad0cb5dae1",
   "metadata": {},
   "outputs": [],
   "source": [
    "df['Fuel control'] = df['Fuel control'].astype('category')"
   ]
  },
  {
   "cell_type": "markdown",
   "id": "bdd1f8fe-e3a3-414e-8abc-e99d317f98bb",
   "metadata": {},
   "source": [
    "### 'Cooling system' column "
   ]
  },
  {
   "cell_type": "code",
   "execution_count": 556,
   "id": "a0c8161a-85c1-46cc-b527-b7e462e14db4",
   "metadata": {},
   "outputs": [
    {
     "data": {
      "text/plain": [
       "array(['Air', 'Liquid', 'Liquids', 'the air', nan, 'air', 'Oil & air',\n",
       "       'Oil and air'], dtype=object)"
      ]
     },
     "execution_count": 556,
     "metadata": {},
     "output_type": "execute_result"
    }
   ],
   "source": [
    "df['Cooling system'].unique()"
   ]
  },
  {
   "cell_type": "code",
   "execution_count": 557,
   "id": "eab97c8c-610a-42b5-9ba1-72d0d51f6ce8",
   "metadata": {},
   "outputs": [
    {
     "data": {
      "text/plain": [
       "array(['air', 'liquid', nan, 'oil and air'], dtype=object)"
      ]
     },
     "execution_count": 557,
     "metadata": {},
     "output_type": "execute_result"
    }
   ],
   "source": [
    "df['Cooling system'] = df['Cooling system'].str.lower() # Make all values in lower case\n",
    "df['Cooling system'] = df['Cooling system'].str.replace('the air','air') # replace 'the air' with 'air'\n",
    "df['Cooling system'] = df['Cooling system'].str.replace('liquids','liquid') # replace 'Liquids' with 'liquid'\n",
    "df['Cooling system'] = df['Cooling system'].str.replace('oil & air','oil and air') # replace 'oil & air' with 'oil and air'\n",
    "df['Cooling system'].unique()"
   ]
  },
  {
   "cell_type": "markdown",
   "id": "d49668c1-5ecd-4463-a365-ac3d18220832",
   "metadata": {},
   "source": [
    "### 'Transmission type' column"
   ]
  },
  {
   "cell_type": "code",
   "execution_count": 559,
   "id": "55add7f7-32be-4f53-8885-cc0c8081a22c",
   "metadata": {},
   "outputs": [
    {
     "data": {
      "text/plain": [
       "array(['Chain', 'Belt', nan, 'Shaft drive'], dtype=object)"
      ]
     },
     "execution_count": 559,
     "metadata": {},
     "output_type": "execute_result"
    }
   ],
   "source": [
    "df['Transmission type'].unique()"
   ]
  },
  {
   "cell_type": "markdown",
   "id": "6d52e6c9-a99e-4aef-b442-63d152266d32",
   "metadata": {},
   "source": [
    "### 'Dry weight (kg)' column "
   ]
  },
  {
   "cell_type": "code",
   "execution_count": 561,
   "id": "fa2f3701-e8e4-4c93-9507-10584edb1c88",
   "metadata": {},
   "outputs": [
    {
     "data": {
      "text/plain": [
       "count    13331.000000\n",
       "mean       177.846606\n",
       "std         75.157797\n",
       "min         15.500000\n",
       "25%        125.000000\n",
       "50%        168.000000\n",
       "75%        206.000000\n",
       "max       1000.000000\n",
       "Name: Dry weight (kg), dtype: float64"
      ]
     },
     "execution_count": 561,
     "metadata": {},
     "output_type": "execute_result"
    }
   ],
   "source": [
    "# describe the 'Dry weight (kg)' column \n",
    "df['Dry weight (kg)'].describe()"
   ]
  },
  {
   "cell_type": "code",
   "execution_count": 562,
   "id": "a75d0750-9a60-423e-905f-ca5b6fb7296c",
   "metadata": {},
   "outputs": [
    {
     "data": {
      "image/png": "[encoded data removed]",
      "text/plain": [
       "<Figure size 640x480 with 1 Axes>"
      ]
     },
     "metadata": {},
     "output_type": "display_data"
    }
   ],
   "source": [
    "# visulize the 'Dry weight (kg)' values \n",
    "sns.boxplot(df['Dry weight (kg)'])\n",
    "plt.show()"
   ]
  },
  {
   "cell_type": "code",
   "execution_count": 563,
   "id": "32c841c7-8017-4ed7-ad87-f1adf32f1530",
   "metadata": {},
   "outputs": [
    {
     "data": {
      "text/plain": [
       "count    13287.000000\n",
       "mean       176.192752\n",
       "std         69.401587\n",
       "min         15.500000\n",
       "25%        125.000000\n",
       "50%        168.000000\n",
       "75%        205.000000\n",
       "max        598.000000\n",
       "Name: Dry weight (kg), dtype: float64"
      ]
     },
     "execution_count": 563,
     "metadata": {},
     "output_type": "execute_result"
    }
   ],
   "source": [
    "# remove the values more than 600 Kg\n",
    "df = df[df['Dry weight (kg)'] < 600]\n",
    "df['Dry weight (kg)'].describe()"
   ]
  },
  {
   "cell_type": "code",
   "execution_count": 564,
   "id": "ae847e12-daf3-4083-9f94-02bbf8313891",
   "metadata": {},
   "outputs": [
    {
     "data": {
      "image/png": "[encoded data removed]",
      "text/plain": [
       "<Figure size 640x480 with 1 Axes>"
      ]
     },
     "metadata": {},
     "output_type": "display_data"
    }
   ],
   "source": [
    "# visulize the 'Dry weight (kg)' values \n",
    "sns.boxplot(df['Dry weight (kg)'])\n",
    "plt.show()"
   ]
  },
  {
   "cell_type": "markdown",
   "id": "fbc52761-f74c-4172-80e4-9a061ad586c2",
   "metadata": {},
   "source": [
    "### 'Wheelbase (mm)' column"
   ]
  },
  {
   "cell_type": "code",
   "execution_count": 566,
   "id": "c7cde82c-8d04-4b95-9bda-f828217ea49b",
   "metadata": {},
   "outputs": [
    {
     "data": {
      "text/plain": [
       "count    9493.000000\n",
       "mean     1440.035184\n",
       "std       151.904239\n",
       "min       745.000000\n",
       "25%      1353.000000\n",
       "50%      1430.000000\n",
       "75%      1510.000000\n",
       "max      2261.000000\n",
       "Name: Wheelbase (mm), dtype: float64"
      ]
     },
     "execution_count": 566,
     "metadata": {},
     "output_type": "execute_result"
    }
   ],
   "source": [
    "df['Wheelbase (mm)'].describe()"
   ]
  },
  {
   "cell_type": "code",
   "execution_count": 567,
   "id": "43c0af5e-9cea-4882-ba22-b6e0f65f14e5",
   "metadata": {},
   "outputs": [
    {
     "data": {
      "image/png": "[encoded data removed]",
      "text/plain": [
       "<Figure size 640x480 with 1 Axes>"
      ]
     },
     "metadata": {},
     "output_type": "display_data"
    }
   ],
   "source": [
    "sns.boxplot(df['Wheelbase (mm)'])\n",
    "plt.show()"
   ]
  },
  {
   "cell_type": "markdown",
   "id": "959df00a-b30c-4b5e-979c-6b7f3e270f07",
   "metadata": {},
   "source": [
    "### 'Seat height (mm)' column "
   ]
  },
  {
   "cell_type": "code",
   "execution_count": 569,
   "id": "59f00efb-5ef3-45c5-8b9e-69de59be13b3",
   "metadata": {},
   "outputs": [
    {
     "data": {
      "text/plain": [
       "count    9601.000000\n",
       "mean      787.211020\n",
       "std       119.925498\n",
       "min        87.000000\n",
       "25%       760.000000\n",
       "50%       790.000000\n",
       "75%       820.000000\n",
       "max      7501.000000\n",
       "Name: Seat height (mm), dtype: float64"
      ]
     },
     "execution_count": 569,
     "metadata": {},
     "output_type": "execute_result"
    }
   ],
   "source": [
    "df['Seat height (mm)'].describe()"
   ]
  },
  {
   "cell_type": "code",
   "execution_count": 570,
   "id": "73767efb-701b-4a2a-8ec9-33739a440558",
   "metadata": {},
   "outputs": [
    {
     "data": {
      "image/png": "[encoded data removed]",
      "text/plain": [
       "<Figure size 640x480 with 1 Axes>"
      ]
     },
     "metadata": {},
     "output_type": "display_data"
    }
   ],
   "source": [
    "sns.boxplot(df['Seat height (mm)'])\n",
    "plt.show()"
   ]
  },
  {
   "cell_type": "code",
   "execution_count": 571,
   "id": "ea58c71f-31b2-4171-bf90-58aba78ad4a7",
   "metadata": {},
   "outputs": [
    {
     "data": {
      "text/plain": [
       "count    9593.000000\n",
       "mean      785.982383\n",
       "std        69.538806\n",
       "min       425.000000\n",
       "25%       760.000000\n",
       "50%       790.000000\n",
       "75%       820.000000\n",
       "max      1060.000000\n",
       "Name: Seat height (mm), dtype: float64"
      ]
     },
     "execution_count": 571,
     "metadata": {},
     "output_type": "execute_result"
    }
   ],
   "source": [
    "# remove the values more than 2000 mm \n",
    "df = df[df['Seat height (mm)'] < 1200]\n",
    "# remove the values less than 400 mm\n",
    "df = df[df['Seat height (mm)'] > 400]\n",
    "df['Seat height (mm)'].describe()"
   ]
  },
  {
   "cell_type": "code",
   "execution_count": 572,
   "id": "f88337b6-d7c5-42cb-9add-884d2794699a",
   "metadata": {},
   "outputs": [
    {
     "data": {
      "image/png": "[encoded data removed]",
      "text/plain": [
       "<Figure size 640x480 with 1 Axes>"
      ]
     },
     "metadata": {},
     "output_type": "display_data"
    }
   ],
   "source": [
    "sns.boxplot(df['Seat height (mm)'])\n",
    "plt.show()"
   ]
  },
  {
   "cell_type": "markdown",
   "id": "27166518-2b4c-44f0-af29-53b7f9573c03",
   "metadata": {},
   "source": [
    "## Summary"
   ]
  },
  {
   "cell_type": "markdown",
   "id": "ef1efba1-19c2-4a7d-83f3-a1859b7a585b",
   "metadata": {},
   "source": [
    "1. cheak the types of the column\n",
    "2. drop dublicated values\n",
    "3. remove missing values\n",
    "4. remove the unlogic values in year column and then converted to date type\n",
    "5. remove the unlogic values in rest of column and visulize them in boxplot"
   ]
  }
 ],
 "metadata": {
  "kernelspec": {
   "display_name": "Python 3 (ipykernel)",
   "language": "python",
   "name": "python3"
  },
  "language_info": {
   "codemirror_mode": {
    "name": "ipython",
    "version": 3
   },
   "file_extension": ".py",
   "mimetype": "text/x-python",
   "name": "python",
   "nbconvert_exporter": "python",
   "pygments_lexer": "ipython3",
   "version": "3.12.4"
  }
 },
 "nbformat": 4,
 "nbformat_minor": 5
}
